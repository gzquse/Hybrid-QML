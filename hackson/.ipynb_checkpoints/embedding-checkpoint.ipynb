{
 "cells": [
  {
   "cell_type": "code",
   "execution_count": null,
   "id": "initial_id",
   "metadata": {
    "collapsed": true,
    "is_executing": true
   },
   "outputs": [],
   "source": [
    "import pennylane as qml\n",
    "import numpy as np\n",
    "\n",
    "# Data vector to be encoded\n",
    "data = [0.3, 0.7, 0.6]\n",
    "\n",
    "# Normalize the data vector\n",
    "data = data / np.linalg.norm(data)\n",
    "\n",
    "# Number of qubits\n",
    "num_qubits = len(data) \n",
    "\n",
    "# Define a quantum device\n",
    "dev = qml.device('default.qubit', wires=num_qubits)\n",
    "\n",
    "# Define the variational quantum circuit\n",
    "def circuit(params, wires):\n",
    "    qml.BasisState(np.array([0] * num_qubits), wires=wires)  # Initialize in |00..0> state\n",
    "    for i in range(num_qubits):\n",
    "        qml.RY(params[i], wires=i)\n",
    "\n",
    "# Define the cost function\n",
    "@qml.qnode(dev)\n",
    "def cost(params):\n",
    "    circuit(params, wires=range(num_qubits))\n",
    "    target_state = qml.AmplitudeEmbedding(features=data, wires=range(num_qubits), normalize=True)\n",
    "    return qml.probs(wires=range(num_qubits)) - target_state.probs()\n",
    "\n",
    "# Initialize parameters (randomly for this example)\n",
    "params = np.random.rand(num_qubits) \n",
    "\n",
    "# Use a gradient-based optimizer\n",
    "opt = qml.GradientDescentOptimizer(stepsize=0.1)\n",
    "\n",
    "# Train the circuit\n",
    "for i in range(100):\n",
    "    params = opt.step(cost, params)\n",
    "    print(f\"Step {i}, Cost: {cost(params)}\")\n",
    "\n",
    "# Print the final state vector produced by the circuit \n",
    "final_state = circuit(params, wires=range(num_qubits))\n",
    "print(\"Approximate Embedded State:\", qml.state())"
   ]
  },
  {
   "cell_type": "code",
   "outputs": [],
   "source": [],
   "metadata": {
    "collapsed": false
   },
   "id": "70cb993c565d2652"
  }
 ],
 "metadata": {
  "kernelspec": {
   "display_name": "Python 3",
   "language": "python",
   "name": "python3"
  },
  "language_info": {
   "codemirror_mode": {
    "name": "ipython",
    "version": 2
   },
   "file_extension": ".py",
   "mimetype": "text/x-python",
   "name": "python",
   "nbconvert_exporter": "python",
   "pygments_lexer": "ipython2",
   "version": "2.7.6"
  }
 },
 "nbformat": 4,
 "nbformat_minor": 5
}
