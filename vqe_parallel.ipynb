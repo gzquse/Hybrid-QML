{
 "cells": [
  {
   "cell_type": "code",
   "execution_count": null,
   "metadata": {
    "collapsed": false
   },
   "outputs": [],
   "source": [
    "# This cell is added by sphinx-gallery\n",
    "# It can be customized to whatever you like\n",
    "%matplotlib inline"
   ]
  },
  {
   "cell_type": "markdown",
   "metadata": {},
   "source": [
    "VQE with parallel QPUs with Rigetti\n",
    "===================================\n",
    "\n",
    "::: {.meta}\n",
    ":property=\\\"og:description\\\": Using parallel QPUs to speed up the\n",
    "calculation of the potential energy surface of molecular Hamiltonian.\n",
    ":property=\\\"og:image\\\":\n",
    "<https://pennylane.ai/qml/_static/demonstration_assets//vqe_diagram.png>\n",
    ":::\n",
    "\n",
    "::: {.related}\n",
    "tutorial\\_vqe A brief overview of VQE\n",
    ":::\n",
    "\n",
    "*Author: Tom Bromley --- Posted: 14 February 2020. Last updated: 29\n",
    "August 2023.*\n",
    "\n",
    "This tutorial showcases how using asynchronously-evaluated parallel QPUs\n",
    "can speed up the calculation of the potential energy surface of\n",
    "molecular hydrogen ($H_2$).\n",
    "\n",
    "Using a VQE setup, we task two devices from the\n",
    "[PennyLane-Rigetti](https://docs.pennylane.ai/projects/rigetti/en/latest/)\n",
    "plugin with evaluating separate terms in the qubit Hamiltonian of $H_2$.\n",
    "As these devices are allowed to operate asynchronously, i.e., at the\n",
    "same time and without having to wait for each other, the calculation can\n",
    "be performed in roughly half the time.\n",
    "\n",
    "We begin by importing the prerequisite libraries:\n"
   ]
  },
  {
   "cell_type": "code",
   "execution_count": null,
   "metadata": {
    "collapsed": false
   },
   "outputs": [],
   "source": [
    "import time\n",
    "import dask\n",
    "\n",
    "import matplotlib.pyplot as plt\n",
    "from pennylane import numpy as np\n",
    "import pennylane as qml\n",
    "from pennylane import qchem"
   ]
  },
  {
   "cell_type": "markdown",
   "metadata": {},
   "source": [
    "This tutorial requires the `pennylane-rigetti` and `dask` packages,\n",
    "which are installed separately using:\n",
    "\n",
    "``` {.bash}\n",
    "pip install pennylane-rigetti\n",
    "pip install \"dask[delayed]\"\n",
    "```\n",
    "\n",
    "Finding the qubit Hamiltonians of $H_{2}$\n",
    "=========================================\n",
    "\n",
    "The objective of this tutorial is to evaluate the potential energy\n",
    "surface of molecular hydrogen. This is achieved by finding the ground\n",
    "state energy of $H_{2}$ as we increase the bond length between the\n",
    "hydrogen atoms.\n",
    "\n",
    "Each inter-atomic distance results in a different qubit Hamiltonian.\n",
    "Further details on the mapping from the electronic Hamiltonian of a\n",
    "molecule to a qubit Hamiltonian can be found in the\n",
    "`tutorial_quantum_chemistry`{.interpreted-text role=\"doc\"} and\n",
    "`tutorial_vqe`{.interpreted-text role=\"doc\"} tutorials.\n",
    "\n",
    "We begin by downloading a selection of datasets of $H_2$ molecule for\n",
    "various bond lengths using the [PennyLane Datasets\n",
    "library](https://pennylane.ai/datasets/qchem/h2-molecule):\n"
   ]
  },
  {
   "cell_type": "code",
   "execution_count": null,
   "metadata": {
    "collapsed": false
   },
   "outputs": [],
   "source": [
    "bonds = [0.5, 0.58, 0.7, 0.9, 1.1, 1.3, 1.5, 1.7, 1.9, 2.1]\n",
    "datasets = qml.data.load(\"qchem\", molname=\"H2\", bondlength=bonds, basis=\"STO-3G\")"
   ]
  },
  {
   "cell_type": "markdown",
   "metadata": {},
   "source": [
    "We can now extract the qubit Hamiltonians from these datasets for each\n",
    "bond length:\n"
   ]
  },
  {
   "cell_type": "code",
   "execution_count": null,
   "metadata": {
    "collapsed": false
   },
   "outputs": [],
   "source": [
    "hamiltonians = [d.hamiltonian for d in datasets]"
   ]
  },
  {
   "cell_type": "markdown",
   "metadata": {},
   "source": [
    "Each Hamiltonian can be written as a linear combination of fifteen\n",
    "tensor products of Pauli matrices. Let\\'s take a look more closely at\n",
    "one of the Hamiltonians:\n"
   ]
  },
  {
   "cell_type": "code",
   "execution_count": null,
   "metadata": {
    "collapsed": false
   },
   "outputs": [],
   "source": [
    "h = hamiltonians[0]\n",
    "\n",
    "print(\"Number of terms: {}\\n\".format(len(h.ops)))\n",
    "for op in h.ops:\n",
    "    print(\"Measurement {} on wires {}\".format(op.name, op.wires))"
   ]
  },
  {
   "cell_type": "markdown",
   "metadata": {},
   "source": [
    "::: {.rst-class}\n",
    "sphx-glr-script-out\n",
    "\n",
    "``` {.none}\n",
    "Number of terms: 15\n",
    "\n",
    "Measurement Identity on wires <Wires = [0]>\n",
    "Measurement PauliZ on wires <Wires = [0]>\n",
    "Measurement PauliZ on wires <Wires = [1]>\n",
    "Measurement ['PauliZ', 'PauliZ'] on wires <Wires = [0, 1]>\n",
    "Measurement ['PauliY', 'PauliX', 'PauliX', 'PauliY'] on wires <Wires = [0, 1, 2, 3]>\n",
    "Measurement ['PauliY', 'PauliY', 'PauliX', 'PauliX'] on wires <Wires = [0, 1, 2, 3]>\n",
    "Measurement ['PauliX', 'PauliX', 'PauliY', 'PauliY'] on wires <Wires = [0, 1, 2, 3]>\n",
    "Measurement ['PauliX', 'PauliY', 'PauliY', 'PauliX'] on wires <Wires = [0, 1, 2, 3]>\n",
    "Measurement PauliZ on wires <Wires = [2]>\n",
    "Measurement ['PauliZ', 'PauliZ'] on wires <Wires = [0, 2]>\n",
    "Measurement PauliZ on wires <Wires = [3]>\n",
    "Measurement ['PauliZ', 'PauliZ'] on wires <Wires = [0, 3]>\n",
    "Measurement ['PauliZ', 'PauliZ'] on wires <Wires = [1, 2]>\n",
    "Measurement ['PauliZ', 'PauliZ'] on wires <Wires = [1, 3]>\n",
    "Measurement ['PauliZ', 'PauliZ'] on wires <Wires = [2, 3]>\n",
    "```\n",
    ":::\n"
   ]
  },
  {
   "cell_type": "markdown",
   "metadata": {},
   "source": [
    "Defining the energy function\n",
    "============================\n",
    "\n",
    "The fifteen Pauli terms comprising each Hamiltonian can conventionally\n",
    "be evaluated in a sequential manner: we evaluate one expectation value\n",
    "at a time before moving on to the next. However, this task is highly\n",
    "suited to parallelization. With access to multiple QPUs, we can split up\n",
    "evaluating the terms between the QPUs and gain an increase in processing\n",
    "speed.\n",
    "\n",
    "::: {.note}\n",
    "::: {.title}\n",
    "Note\n",
    ":::\n",
    "\n",
    "Some of the Pauli terms commute, and so they can be evaluated in\n",
    "practice with fewer than fifteen quantum circuit runs. Nevertheless,\n",
    "these quantum circuit runs can still be parallelized to multiple QPUs.\n",
    ":::\n",
    "\n",
    "Let\\'s suppose we have access to two quantum devices. In this tutorial\n",
    "we consider two simulators from Rigetti: `4q-qvm` and `9q-square-qvm`,\n",
    "but we could also run on hardware devices from Rigetti or other\n",
    "providers.\n",
    "\n",
    "We can evaluate the expectation value of each Hamiltonian with eight\n",
    "terms run on one device and seven terms run on the other, as summarized\n",
    "by the diagram below:\n",
    "\n",
    "![](/_static/demonstration_assets/vqe_parallel/vqe_diagram.png){.align-center\n",
    "width=\"65.0%\"}\n",
    "\n",
    "To do this, start by instantiating a device for each term:\n"
   ]
  },
  {
   "cell_type": "code",
   "execution_count": null,
   "metadata": {
    "collapsed": false
   },
   "outputs": [],
   "source": [
    "dev1 = [qml.device(\"rigetti.qvm\", device=\"4q-qvm\") for _ in range(8)]\n",
    "dev2 = [qml.device(\"rigetti.qvm\", device=\"9q-square-qvm\") for _ in range(7)]\n",
    "devs = dev1 + dev2"
   ]
  },
  {
   "cell_type": "markdown",
   "metadata": {},
   "source": [
    "::: {.note}\n",
    "::: {.title}\n",
    "Note\n",
    ":::\n",
    "\n",
    "For the purposes of this demonstration, we are simulating the QPUs using\n",
    "the `rigetti.qvm` simulator. To run this demonstration on hardware,\n",
    "simply swap `rigetti.qvm` for `rigetti.qpu` and specify the hardware\n",
    "device to run on.\n",
    "\n",
    "Please refer to the [Rigetti website](https://rigetti.com/) for an\n",
    "up-to-date list on available QPUs.\n",
    ":::\n",
    "\n",
    "::: {.warning}\n",
    "::: {.title}\n",
    "Warning\n",
    ":::\n",
    "\n",
    "Rigetti\\'s QVM and Quil Compiler services must be running for this\n",
    "tutorial to execute. They can be installed by consulting the [Rigetti\n",
    "documentation](http://docs.rigetti.com/qcs/) or, for users with Docker,\n",
    "by running:\n",
    "\n",
    "``` {.bash}\n",
    "docker run -d -p 5555:5555 rigetti/quilc -R -p 5555\n",
    "docker run -d -p 5000:5000 rigetti/qvm -S -p 5000\n",
    "```\n",
    ":::\n",
    "\n",
    "We must also define a circuit to prepare the ground state, which is a\n",
    "superposition of the Hartree-Fock ($|1100\\rangle$) and doubly-excited\n",
    "($|0011\\rangle$) configurations. The simple circuit below is able to\n",
    "prepare states of the form $\\alpha |1100\\rangle +\n",
    "\\beta |0011\\rangle$ and hence encode the ground state wave function of\n",
    "the hydrogen molecule. The circuit has a single free parameter, which\n",
    "controls a Y-rotation on the third qubit.\n"
   ]
  },
  {
   "cell_type": "code",
   "execution_count": null,
   "metadata": {
    "collapsed": false
   },
   "outputs": [],
   "source": [
    "def circuit(param, H):\n",
    "    qml.BasisState(np.array([1, 1, 0, 0], requires_grad=False), wires=[0, 1, 2, 3])\n",
    "    qml.RY(param, wires=2)\n",
    "    qml.CNOT(wires=[2, 3])\n",
    "    qml.CNOT(wires=[2, 0])\n",
    "    qml.CNOT(wires=[3, 1])\n",
    "    return qml.expval(H)"
   ]
  },
  {
   "cell_type": "markdown",
   "metadata": {},
   "source": [
    "The ground state for each inter-atomic distance is characterized by a\n",
    "different Y-rotation angle. The values of these Y-rotations can be found\n",
    "by minimizing the ground state energy as outlined in\n",
    "`tutorial_vqe`{.interpreted-text role=\"doc\"}. In this tutorial, we load\n",
    "pre-optimized rotations and focus on comparing the speed of evaluating\n",
    "the potential energy surface with sequential and parallel evaluation.\n",
    "These parameters can be downloaded by clicking `here\n",
    "<../_static/demonstration_assets/vqe_parallel/RY_params.npy>`{.interpreted-text\n",
    "role=\"download\"}.\n"
   ]
  },
  {
   "cell_type": "code",
   "execution_count": null,
   "metadata": {
    "collapsed": false
   },
   "outputs": [],
   "source": [
    "params = np.load(\"vqe_parallel/RY_params.npy\")"
   ]
  },
  {
   "cell_type": "markdown",
   "metadata": {},
   "source": [
    "Calculating the potential energy surface\n",
    "========================================\n",
    "\n",
    "The most vanilla execution of these 10 energy surfaces is using the\n",
    "standard PennyLane functionalities by executing the QNodes. Internally,\n",
    "this creates a measurement for each term in the Hamiltonian that are\n",
    "then sequentially computed.\n"
   ]
  },
  {
   "cell_type": "code",
   "execution_count": null,
   "metadata": {
    "collapsed": false
   },
   "outputs": [],
   "source": [
    "print(\"Evaluating the potential energy surface sequentially\")\n",
    "t0 = time.time()\n",
    "\n",
    "energies_seq = []\n",
    "for i, (h, param) in enumerate(zip(hamiltonians, params)):\n",
    "    print(\n",
    "        f\"{i+1} / {len(bonds)}: Sequential execution; Running for inter-atomic distance {bonds[i]} Å\"\n",
    "    )\n",
    "    energies_seq.append(qml.QNode(circuit, devs[0])(param, h))\n",
    "\n",
    "dt_seq = time.time() - t0\n",
    "\n",
    "print(f\"Evaluation time: {dt_seq:.2f} s\")"
   ]
  },
  {
   "cell_type": "markdown",
   "metadata": {},
   "source": [
    "We can parallelize the individual evaluations using `dask` in the\n",
    "following way: We take the 15 terms of the Hamiltonian and distribute\n",
    "them to the 15 devices in `devs`. This evaluation is delayed using\n",
    "`dask.delayed` and later computed in parallel using `dask.compute`,\n",
    "which asynchronously executes the delayed objects in `results`.\n"
   ]
  },
  {
   "cell_type": "code",
   "execution_count": null,
   "metadata": {
    "collapsed": false
   },
   "outputs": [],
   "source": [
    "def compute_energy_parallel(H, devs, param):\n",
    "    assert len(H.ops) == len(devs)\n",
    "    results = []\n",
    "\n",
    "    for i in range(len(H.ops)):\n",
    "        qnode = qml.QNode(circuit, devs[i])\n",
    "        results.append(dask.delayed(qnode)(param, H.ops[i]))\n",
    "\n",
    "    results = dask.compute(*results, scheduler=\"threads\")\n",
    "    result = sum(c * r for c, r in zip(H.coeffs, results))\n",
    "    return result"
   ]
  },
  {
   "cell_type": "markdown",
   "metadata": {},
   "source": [
    "We can now compute all 10 samples from the energy surface sequentially,\n",
    "where each execution is making use of parallel device execution.\n",
    "Curiously, in this example the overhead from doing so outweighs the\n",
    "speed-up and the execution is slower than standard execution using\n",
    "`qml.expval`. For different circuits and different Hamiltonians,\n",
    "however, parallelization may provide significant speed-ups.\n"
   ]
  },
  {
   "cell_type": "code",
   "execution_count": null,
   "metadata": {
    "collapsed": false
   },
   "outputs": [],
   "source": [
    "print(\"Evaluating the potential energy surface in parallel\")\n",
    "t0 = time.time()\n",
    "\n",
    "energies_par = []\n",
    "for i, (h, param) in enumerate(zip(hamiltonians, params)):\n",
    "    print(\n",
    "        f\"{i+1} / {len(bonds)}: Parallel execution; Running for inter-atomic distance {bonds[i]} Å\"\n",
    "    )\n",
    "    energies_par.append(compute_energy_parallel(h, devs, param))\n",
    "\n",
    "dt_par = time.time() - t0\n",
    "\n",
    "print(f\"Evaluation time: {dt_par:.2f} s\")"
   ]
  },
  {
   "cell_type": "markdown",
   "metadata": {},
   "source": [
    "We can improve this procedure further by optimizing the measurement.\n",
    "Currently, we are measuring each term of the Hamiltonian in a separate\n",
    "measurement. This is not necessary as there are sub-groups of commuting\n",
    "terms in the Hamiltonian that can be measured simultaneously. We can\n",
    "utilize the grouping function\n",
    "`~.pennylane.pauli.group_observables`{.interpreted-text role=\"func\"} to\n",
    "generate few measurements that are executed in parallel:\n"
   ]
  },
  {
   "cell_type": "code",
   "execution_count": null,
   "metadata": {
    "collapsed": false
   },
   "outputs": [],
   "source": [
    "def compute_energy_parallel_optimized(H, devs, param):\n",
    "    assert len(H.ops) == len(devs)\n",
    "    results = []\n",
    "\n",
    "    obs_groupings, coeffs_groupings = qml.pauli.group_observables(\n",
    "        H.ops, H.coeffs, \"qwc\"\n",
    "    )\n",
    "\n",
    "    for i, (obs, coeffs) in enumerate(zip(obs_groupings, coeffs_groupings)):\n",
    "        H_part = qml.Hamiltonian(coeffs, obs)\n",
    "        qnode = qml.QNode(circuit, devs[i])\n",
    "        results.append(dask.delayed(qnode)(param, H_part))\n",
    "\n",
    "    result = qml.math.sum(dask.compute(*results, scheduler=\"threads\"))\n",
    "    return result\n",
    "\n",
    "print(\n",
    "    \"Evaluating the potential energy surface in parallel with measurement optimization\"\n",
    ")\n",
    "t0 = time.time()\n",
    "\n",
    "energies_par_opt = []\n",
    "for i, (h, param) in enumerate(zip(hamiltonians, params)):\n",
    "    print(\n",
    "        f\"{i+1} / {len(bonds)}: Parallel execution and measurement optimization; Running for inter-atomic distance {bonds[i]} Å\"\n",
    "    )\n",
    "    energies_par_opt.append(compute_energy_parallel_optimized(h, devs, param))\n",
    "\n",
    "dt_par_opt = time.time() - t0\n",
    "\n",
    "print(f\"Evaluation time: {dt_par_opt:.2f} s\")"
   ]
  },
  {
   "cell_type": "markdown",
   "metadata": {},
   "source": [
    "::: {.rst-class}\n",
    "sphx-glr-script-out\n",
    "\n",
    "``` {.none}\n",
    "Evaluating the potential energy surface sequentially\n",
    "1 / 10: Sequential execution; Running for inter-atomic distance 0.3 Å\n",
    "2 / 10: Sequential execution; Running for inter-atomic distance 0.5 Å\n",
    "3 / 10: Sequential execution; Running for inter-atomic distance 0.7 Å\n",
    "4 / 10: Sequential execution; Running for inter-atomic distance 0.9 Å\n",
    "5 / 10: Sequential execution; Running for inter-atomic distance 1.1 Å\n",
    "6 / 10: Sequential execution; Running for inter-atomic distance 1.3 Å\n",
    "7 / 10: Sequential execution; Running for inter-atomic distance 1.5 Å\n",
    "8 / 10: Sequential execution; Running for inter-atomic distance 1.7 Å\n",
    "9 / 10: Sequential execution; Running for inter-atomic distance 1.9 Å\n",
    "10 / 10: Sequential execution; Running for inter-atomic distance 2.1 Å\n",
    "Evaluation time: 39.33 s\n",
    "\n",
    "Evaluating the potential energy surface in parallel\n",
    "1 / 10: Parallel execution; Running for inter-atomic distance 0.3 Å\n",
    "2 / 10: Parallel execution; Running for inter-atomic distance 0.5 Å\n",
    "3 / 10: Parallel execution; Running for inter-atomic distance 0.7 Å\n",
    "4 / 10: Parallel execution; Running for inter-atomic distance 0.9 Å\n",
    "5 / 10: Parallel execution; Running for inter-atomic distance 1.1 Å\n",
    "6 / 10: Parallel execution; Running for inter-atomic distance 1.3 Å\n",
    "7 / 10: Parallel execution; Running for inter-atomic distance 1.5 Å\n",
    "8 / 10: Parallel execution; Running for inter-atomic distance 1.7 Å\n",
    "9 / 10: Parallel execution; Running for inter-atomic distance 1.9 Å\n",
    "10 / 10: Parallel execution; Running for inter-atomic distance 2.1 Å\n",
    "Evaluation time: 73.42 s\n",
    "\n",
    "Evaluating the potential energy surface in parallel with measurement optimization\n",
    "1 / 10: Parallel execution and measurement optimization; Running for inter-atomic distance 0.3 Å\n",
    "2 / 10: Parallel execution and measurement optimization; Running for inter-atomic distance 0.5 Å\n",
    "3 / 10: Parallel execution and measurement optimization; Running for inter-atomic distance 0.7 Å\n",
    "4 / 10: Parallel execution and measurement optimization; Running for inter-atomic distance 0.9 Å\n",
    "5 / 10: Parallel execution and measurement optimization; Running for inter-atomic distance 1.1 Å\n",
    "6 / 10: Parallel execution and measurement optimization; Running for inter-atomic distance 1.3 Å\n",
    "7 / 10: Parallel execution and measurement optimization; Running for inter-atomic distance 1.5 Å\n",
    "8 / 10: Parallel execution and measurement optimization; Running for inter-atomic distance 1.7 Å\n",
    "9 / 10: Parallel execution and measurement optimization; Running for inter-atomic distance 1.9 Å\n",
    "10 / 10: Parallel execution and measurement optimization; Running for inter-atomic distance 2.1 Å\n",
    "Evaluation time: 26.51 s\n",
    "```\n",
    ":::\n"
   ]
  },
  {
   "cell_type": "markdown",
   "metadata": {},
   "source": [
    "We have seen how Hamiltonian measurements can be parallelized and\n",
    "optimized at the same time.\n"
   ]
  },
  {
   "cell_type": "code",
   "execution_count": null,
   "metadata": {
    "collapsed": false
   },
   "outputs": [],
   "source": [
    "print(\"Speed up: {0:.2f}\".format(dt_seq / dt_par_opt))"
   ]
  },
  {
   "cell_type": "markdown",
   "metadata": {},
   "source": [
    "::: {.rst-class}\n",
    "sphx-glr-script-out\n",
    "\n",
    "``` {.none}\n",
    "Speed up: 1.48\n",
    "```\n",
    ":::\n"
   ]
  },
  {
   "cell_type": "markdown",
   "metadata": {},
   "source": [
    "To conclude the tutorial, let\\'s plot the calculated potential energy\n",
    "surfaces:\n"
   ]
  },
  {
   "cell_type": "code",
   "execution_count": null,
   "metadata": {
    "collapsed": false
   },
   "outputs": [],
   "source": [
    "np.savez(\n",
    "    \"vqe_parallel\",\n",
    "    energies_seq=energies_seq,\n",
    "    energies_par=energies_par,\n",
    "    energies_par_opt=energies_par_opt,\n",
    ")\n",
    "\n",
    "plt.plot(\n",
    "    bonds, energies_seq, linewidth=2.2, marker=\"d\", color=\"green\", label=\"sequential\"\n",
    ")\n",
    "plt.plot(bonds, energies_par, linewidth=2.2, marker=\"o\", color=\"red\", label=\"parallel\")\n",
    "plt.plot(\n",
    "    bonds,\n",
    "    energies_par_opt,\n",
    "    linewidth=2.2,\n",
    "    marker=\"d\",\n",
    "    color=\"blue\",\n",
    "    label=\"paralell and optimized\",\n",
    ")\n",
    "plt.legend(fontsize=12)\n",
    "plt.title(\"Potential energy surface for molecular hydrogen\", fontsize=12)\n",
    "plt.xlabel(\"Atomic separation (Å)\", fontsize=16)\n",
    "plt.ylabel(\"Ground state energy (Ha)\", fontsize=16)\n",
    "plt.grid(True)"
   ]
  },
  {
   "cell_type": "markdown",
   "metadata": {},
   "source": [
    "![](/_static/demonstration_assets/vqe_parallel/vqe_parallel_001.png){.align-center\n",
    "width=\"80.0%\"}\n"
   ]
  },
  {
   "cell_type": "markdown",
   "metadata": {},
   "source": [
    "These surfaces overlap, with any variation due to the limited number of\n",
    "shots used to evaluate the expectation values in the `rigetti.qvm`\n",
    "device (we are using the default value of `shots=1024`).\n"
   ]
  },
  {
   "cell_type": "markdown",
   "metadata": {},
   "source": [
    "About the author\n",
    "================\n"
   ]
  }
 ],
 "metadata": {
  "kernelspec": {
   "display_name": "Python 3",
   "language": "python",
   "name": "python3"
  },
  "language_info": {
   "codemirror_mode": {
    "name": "ipython",
    "version": 3
   },
   "file_extension": ".py",
   "mimetype": "text/x-python",
   "name": "python",
   "nbconvert_exporter": "python",
   "pygments_lexer": "ipython3",
   "version": "3.10.13"
  }
 },
 "nbformat": 4,
 "nbformat_minor": 0
}
