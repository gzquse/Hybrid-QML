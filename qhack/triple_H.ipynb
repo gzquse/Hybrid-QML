{
 "cells": [
  {
   "cell_type": "code",
   "execution_count": null,
   "id": "initial_id",
   "metadata": {
    "collapsed": true
   },
   "outputs": [],
   "source": []
  },
  {
   "cell_type": "code",
   "outputs": [
    {
     "name": "stdout",
     "output_type": "stream",
     "text": [
      "-0.5333727980800229\n",
      "-0.5333727980800229\n"
     ]
    },
    {
     "name": "stderr",
     "output_type": "stream",
     "text": [
      "/home/martinet/PycharmProjects/Hybrid_QML/.venv/lib/python3.10/site-packages/autograd/tracer.py:14: UserWarning: Output seems independent of input.\n",
      "  warnings.warn(\"Output seems independent of input.\")\n"
     ]
    },
    {
     "ename": "TypeError",
     "evalue": "Can't find vector space for value expval(  (-0.35125712533244347) [Z4]\n+ (-0.35125712533244347) [Z5]\n+ (-0.28858636819703165) [Z3]\n+ (-0.2885863681970316) [Z2]\n+ (0.3834080218388176) [Z0]\n+ (0.3834080218388176) [Z1]\n+ (1.5846456169939072) [I0]\n+ (-0.015359755135802166) [Y1 Y3]\n+ (-0.015359755135802166) [X1 X3]\n+ (0.002458307679281513) [Y0 Y2]\n+ (0.002458307679281513) [X0 X2]\n+ (0.13568042543550354) [Z0 Z2]\n+ (0.13568042543550354) [Z1 Z3]\n+ (0.1379542348931757) [Z0 Z4]\n+ (0.1379542348931757) [Z1 Z5]\n+ (0.147121439083462) [Z2 Z4]\n+ (0.147121439083462) [Z3 Z5]\n+ (0.1601747840245841) [Z2 Z5]\n+ (0.1601747840245841) [Z3 Z4]\n+ (0.1728047035878498) [Z0 Z3]\n+ (0.1728047035878498) [Z1 Z2]\n+ (0.17501280813960657) [Z0 Z5]\n+ (0.17501280813960657) [Z1 Z4]\n+ (0.17832025863467402) [Z0 Z1]\n+ (0.1883086911405768) [Z2 Z3]\n+ (0.19016756378358313) [Z4 Z5]\n+ (-0.001889591922444053) [Y0 Z1 Y2]\n+ (-0.001889591922444053) [X0 Z1 X2]\n+ (-0.001889591922444053) [Y1 Z2 Y3]\n+ (-0.001889591922444053) [X1 Z2 X3]\n+ (-0.03712427815234623) [Y0 Y1 X2 X3]\n+ (-0.03712427815234623) [X0 X1 Y2 Y3]\n+ (-0.03705857324643087) [Y0 Y1 X4 X5]\n+ (-0.03705857324643087) [X0 X1 Y4 Y5]\n+ (-0.015359755135802166) [Y0 Z1 Y2 Z3]\n+ (-0.015359755135802166) [X0 Z1 X2 Z3]\n+ (-0.013053344941122147) [Y2 Y3 X4 X5]\n+ (-0.013053344941122147) [X2 X3 Y4 Y5]\n+ (0.002227977899405195) [Y0 Z1 Y2 Z4]\n+ (0.002227977899405195) [X0 Z1 X2 Z4]\n+ (0.002227977899405195) [Y1 Z2 Y3 Z5]\n+ (0.002227977899405195) [X1 Z2 X3 Z5]\n+ (0.002458307679281513) [Z0 Y1 Z2 Y3]\n+ (0.002458307679281513) [Z0 X1 Z2 X3]\n+ (0.013053344941122147) [Y2 X3 X4 Y5]\n+ (0.013053344941122147) [X2 Y3 Y4 X5]\n+ (0.015251698377318997) [Y1 X2 X4 Y5]\n+ (0.015251698377318997) [Y1 Y2 Y4 Y5]\n+ (0.015251698377318997) [X1 X2 X4 X5]\n+ (0.015251698377318997) [X1 Y2 Y4 X5]\n+ (0.01747967627672419) [Y0 Z1 Y2 Z5]\n+ (0.01747967627672419) [X0 Z1 X2 Z5]\n+ (0.01747967627672419) [Y1 Z2 Y3 Z4]\n+ (0.01747967627672419) [X1 Z2 X3 Z4]\n+ (0.03705857324643087) [Y0 X1 X4 Y5]\n+ (0.03705857324643087) [X0 Y1 Y4 X5]\n+ (0.03712427815234623) [Y0 X1 X2 Y3]\n+ (0.03712427815234623) [X0 Y1 Y2 X3]\n+ (-0.015251698377318997) [Y0 Z1 Z2 X3 X4 Y5]\n+ (-0.015251698377318997) [X0 Z1 Z2 Y3 Y4 X5]\n+ (0.015251698377318997) [Y0 Z1 Z2 Y3 X4 X5]\n+ (0.015251698377318997) [X0 Z1 Z2 X3 Y4 Y5]) of type <class 'pennylane.measurements.expval.ExpectationMP'>. Valid types are dict_keys([<class 'autograd.core.SparseObject'>, <class 'list'>, <class 'tuple'>, <class 'dict'>, <class 'numpy.ndarray'>, <class 'float'>, <class 'numpy.longdouble'>, <class 'numpy.float64'>, <class 'numpy.float32'>, <class 'numpy.float16'>, <class 'complex'>, <class 'numpy.clongdouble'>, <class 'numpy.complex64'>, <class 'numpy.complex128'>, <class 'numpy.linalg.linalg.EigResult'>, <class 'numpy.linalg.linalg.EighResult'>, <class 'numpy.linalg.linalg.QRResult'>, <class 'numpy.linalg.linalg.SlogdetResult'>, <class 'numpy.linalg.linalg.SVDResult'>, <class 'pennylane.numpy.tensor.tensor'>])",
     "output_type": "error",
     "traceback": [
      "\u001B[0;31m---------------------------------------------------------------------------\u001B[0m",
      "\u001B[0;31mKeyError\u001B[0m                                  Traceback (most recent call last)",
      "File \u001B[0;32m~/PycharmProjects/Hybrid_QML/.venv/lib/python3.10/site-packages/autograd/core.py:233\u001B[0m, in \u001B[0;36mvspace\u001B[0;34m(value)\u001B[0m\n\u001B[1;32m    232\u001B[0m \u001B[38;5;28;01mtry\u001B[39;00m:\n\u001B[0;32m--> 233\u001B[0m     \u001B[38;5;28;01mreturn\u001B[39;00m \u001B[43mVSpace\u001B[49m\u001B[38;5;241;43m.\u001B[39;49m\u001B[43mmappings\u001B[49m\u001B[43m[\u001B[49m\u001B[38;5;28;43mtype\u001B[39;49m\u001B[43m(\u001B[49m\u001B[43mvalue\u001B[49m\u001B[43m)\u001B[49m\u001B[43m]\u001B[49m(value)\n\u001B[1;32m    234\u001B[0m \u001B[38;5;28;01mexcept\u001B[39;00m \u001B[38;5;167;01mKeyError\u001B[39;00m:\n",
      "\u001B[0;31mKeyError\u001B[0m: <class 'pennylane.measurements.expval.ExpectationMP'>",
      "\nDuring handling of the above exception, another exception occurred:\n",
      "\u001B[0;31mTypeError\u001B[0m                                 Traceback (most recent call last)",
      "Cell \u001B[0;32mIn[1], line 67\u001B[0m\n\u001B[1;32m     65\u001B[0m \u001B[38;5;28;01mif\u001B[39;00m \u001B[38;5;18m__name__\u001B[39m \u001B[38;5;241m==\u001B[39m \u001B[38;5;124m'\u001B[39m\u001B[38;5;124m__main__\u001B[39m\u001B[38;5;124m'\u001B[39m:\n\u001B[1;32m     66\u001B[0m     bond_length \u001B[38;5;241m=\u001B[39m \u001B[38;5;241m0.8\u001B[39m\n\u001B[0;32m---> 67\u001B[0m     \u001B[38;5;28mprint\u001B[39m(\u001B[43mh3_ground_energy\u001B[49m\u001B[43m(\u001B[49m\u001B[43mbond_length\u001B[49m\u001B[43m)\u001B[49m)\n",
      "Cell \u001B[0;32mIn[1], line 58\u001B[0m, in \u001B[0;36mh3_ground_energy\u001B[0;34m(bond_length)\u001B[0m\n\u001B[1;32m     55\u001B[0m num_it \u001B[38;5;241m=\u001B[39m \u001B[38;5;241m20\u001B[39m\n\u001B[1;32m     57\u001B[0m \u001B[38;5;28;01mfor\u001B[39;00m i \u001B[38;5;129;01min\u001B[39;00m \u001B[38;5;28mrange\u001B[39m(num_it):\n\u001B[0;32m---> 58\u001B[0m     angles, _ \u001B[38;5;241m=\u001B[39m \u001B[43mopt\u001B[49m\u001B[38;5;241;43m.\u001B[39;49m\u001B[43mstep_and_cost\u001B[49m\u001B[43m(\u001B[49m\u001B[43menergy_to_minimize\u001B[49m\u001B[43m,\u001B[49m\u001B[43mangles\u001B[49m\u001B[43m)\u001B[49m\n\u001B[1;32m     59\u001B[0m     energies\u001B[38;5;241m.\u001B[39mappend(energy_to_minimize(angles))\n\u001B[1;32m     60\u001B[0m     angles_list\u001B[38;5;241m.\u001B[39mappend(angles)\n",
      "File \u001B[0;32m~/PycharmProjects/Hybrid_QML/.venv/lib/python3.10/site-packages/pennylane/optimize/gradient_descent.py:64\u001B[0m, in \u001B[0;36mGradientDescentOptimizer.step_and_cost\u001B[0;34m(self, objective_fn, grad_fn, *args, **kwargs)\u001B[0m\n\u001B[1;32m     44\u001B[0m \u001B[38;5;28;01mdef\u001B[39;00m \u001B[38;5;21mstep_and_cost\u001B[39m(\u001B[38;5;28mself\u001B[39m, objective_fn, \u001B[38;5;241m*\u001B[39margs, grad_fn\u001B[38;5;241m=\u001B[39m\u001B[38;5;28;01mNone\u001B[39;00m, \u001B[38;5;241m*\u001B[39m\u001B[38;5;241m*\u001B[39mkwargs):\n\u001B[1;32m     45\u001B[0m \u001B[38;5;250m    \u001B[39m\u001B[38;5;124;03m\"\"\"Update trainable arguments with one step of the optimizer and return the corresponding\u001B[39;00m\n\u001B[1;32m     46\u001B[0m \u001B[38;5;124;03m    objective function value prior to the step.\u001B[39;00m\n\u001B[1;32m     47\u001B[0m \n\u001B[0;32m   (...)\u001B[0m\n\u001B[1;32m     61\u001B[0m \u001B[38;5;124;03m        If single arg is provided, list [array] is replaced by array.\u001B[39;00m\n\u001B[1;32m     62\u001B[0m \u001B[38;5;124;03m    \"\"\"\u001B[39;00m\n\u001B[0;32m---> 64\u001B[0m     g, forward \u001B[38;5;241m=\u001B[39m \u001B[38;5;28;43mself\u001B[39;49m\u001B[38;5;241;43m.\u001B[39;49m\u001B[43mcompute_grad\u001B[49m\u001B[43m(\u001B[49m\u001B[43mobjective_fn\u001B[49m\u001B[43m,\u001B[49m\u001B[43m \u001B[49m\u001B[43margs\u001B[49m\u001B[43m,\u001B[49m\u001B[43m \u001B[49m\u001B[43mkwargs\u001B[49m\u001B[43m,\u001B[49m\u001B[43m \u001B[49m\u001B[43mgrad_fn\u001B[49m\u001B[38;5;241;43m=\u001B[39;49m\u001B[43mgrad_fn\u001B[49m\u001B[43m)\u001B[49m\n\u001B[1;32m     65\u001B[0m     new_args \u001B[38;5;241m=\u001B[39m \u001B[38;5;28mself\u001B[39m\u001B[38;5;241m.\u001B[39mapply_grad(g, args)\n\u001B[1;32m     67\u001B[0m     \u001B[38;5;28;01mif\u001B[39;00m forward \u001B[38;5;129;01mis\u001B[39;00m \u001B[38;5;28;01mNone\u001B[39;00m:\n",
      "File \u001B[0;32m~/PycharmProjects/Hybrid_QML/.venv/lib/python3.10/site-packages/pennylane/optimize/gradient_descent.py:122\u001B[0m, in \u001B[0;36mGradientDescentOptimizer.compute_grad\u001B[0;34m(objective_fn, args, kwargs, grad_fn)\u001B[0m\n\u001B[1;32m    104\u001B[0m \u001B[38;5;250m\u001B[39m\u001B[38;5;124mr\u001B[39m\u001B[38;5;124;03m\"\"\"Compute gradient of the objective function at the given point and return it along with\u001B[39;00m\n\u001B[1;32m    105\u001B[0m \u001B[38;5;124;03mthe objective function forward pass (if available).\u001B[39;00m\n\u001B[1;32m    106\u001B[0m \n\u001B[0;32m   (...)\u001B[0m\n\u001B[1;32m    119\u001B[0m \u001B[38;5;124;03m    will not be evaluted and instead ``None`` will be returned.\u001B[39;00m\n\u001B[1;32m    120\u001B[0m \u001B[38;5;124;03m\"\"\"\u001B[39;00m\n\u001B[1;32m    121\u001B[0m g \u001B[38;5;241m=\u001B[39m get_gradient(objective_fn) \u001B[38;5;28;01mif\u001B[39;00m grad_fn \u001B[38;5;129;01mis\u001B[39;00m \u001B[38;5;28;01mNone\u001B[39;00m \u001B[38;5;28;01melse\u001B[39;00m grad_fn\n\u001B[0;32m--> 122\u001B[0m grad \u001B[38;5;241m=\u001B[39m \u001B[43mg\u001B[49m\u001B[43m(\u001B[49m\u001B[38;5;241;43m*\u001B[39;49m\u001B[43margs\u001B[49m\u001B[43m,\u001B[49m\u001B[43m \u001B[49m\u001B[38;5;241;43m*\u001B[39;49m\u001B[38;5;241;43m*\u001B[39;49m\u001B[43mkwargs\u001B[49m\u001B[43m)\u001B[49m\n\u001B[1;32m    123\u001B[0m forward \u001B[38;5;241m=\u001B[39m \u001B[38;5;28mgetattr\u001B[39m(g, \u001B[38;5;124m\"\u001B[39m\u001B[38;5;124mforward\u001B[39m\u001B[38;5;124m\"\u001B[39m, \u001B[38;5;28;01mNone\u001B[39;00m)\n\u001B[1;32m    125\u001B[0m num_trainable_args \u001B[38;5;241m=\u001B[39m \u001B[38;5;28msum\u001B[39m(\u001B[38;5;28mgetattr\u001B[39m(arg, \u001B[38;5;124m\"\u001B[39m\u001B[38;5;124mrequires_grad\u001B[39m\u001B[38;5;124m\"\u001B[39m, \u001B[38;5;28;01mFalse\u001B[39;00m) \u001B[38;5;28;01mfor\u001B[39;00m arg \u001B[38;5;129;01min\u001B[39;00m args)\n",
      "File \u001B[0;32m~/PycharmProjects/Hybrid_QML/.venv/lib/python3.10/site-packages/pennylane/_grad.py:165\u001B[0m, in \u001B[0;36mgrad.__call__\u001B[0;34m(self, *args, **kwargs)\u001B[0m\n\u001B[1;32m    162\u001B[0m     \u001B[38;5;28mself\u001B[39m\u001B[38;5;241m.\u001B[39m_forward \u001B[38;5;241m=\u001B[39m \u001B[38;5;28mself\u001B[39m\u001B[38;5;241m.\u001B[39m_fun(\u001B[38;5;241m*\u001B[39margs, \u001B[38;5;241m*\u001B[39m\u001B[38;5;241m*\u001B[39mkwargs)\n\u001B[1;32m    163\u001B[0m     \u001B[38;5;28;01mreturn\u001B[39;00m ()\n\u001B[0;32m--> 165\u001B[0m grad_value, ans \u001B[38;5;241m=\u001B[39m \u001B[43mgrad_fn\u001B[49m\u001B[43m(\u001B[49m\u001B[38;5;241;43m*\u001B[39;49m\u001B[43margs\u001B[49m\u001B[43m,\u001B[49m\u001B[43m \u001B[49m\u001B[38;5;241;43m*\u001B[39;49m\u001B[38;5;241;43m*\u001B[39;49m\u001B[43mkwargs\u001B[49m\u001B[43m)\u001B[49m  \u001B[38;5;66;03m# pylint: disable=not-callable\u001B[39;00m\n\u001B[1;32m    166\u001B[0m \u001B[38;5;28mself\u001B[39m\u001B[38;5;241m.\u001B[39m_forward \u001B[38;5;241m=\u001B[39m ans\n\u001B[1;32m    168\u001B[0m \u001B[38;5;28;01mreturn\u001B[39;00m grad_value\n",
      "File \u001B[0;32m~/PycharmProjects/Hybrid_QML/.venv/lib/python3.10/site-packages/autograd/wrap_util.py:20\u001B[0m, in \u001B[0;36munary_to_nary.<locals>.nary_operator.<locals>.nary_f\u001B[0;34m(*args, **kwargs)\u001B[0m\n\u001B[1;32m     18\u001B[0m \u001B[38;5;28;01melse\u001B[39;00m:\n\u001B[1;32m     19\u001B[0m     x \u001B[38;5;241m=\u001B[39m \u001B[38;5;28mtuple\u001B[39m(args[i] \u001B[38;5;28;01mfor\u001B[39;00m i \u001B[38;5;129;01min\u001B[39;00m argnum)\n\u001B[0;32m---> 20\u001B[0m \u001B[38;5;28;01mreturn\u001B[39;00m \u001B[43munary_operator\u001B[49m\u001B[43m(\u001B[49m\u001B[43munary_f\u001B[49m\u001B[43m,\u001B[49m\u001B[43m \u001B[49m\u001B[43mx\u001B[49m\u001B[43m,\u001B[49m\u001B[43m \u001B[49m\u001B[38;5;241;43m*\u001B[39;49m\u001B[43mnary_op_args\u001B[49m\u001B[43m,\u001B[49m\u001B[43m \u001B[49m\u001B[38;5;241;43m*\u001B[39;49m\u001B[38;5;241;43m*\u001B[39;49m\u001B[43mnary_op_kwargs\u001B[49m\u001B[43m)\u001B[49m\n",
      "File \u001B[0;32m~/PycharmProjects/Hybrid_QML/.venv/lib/python3.10/site-packages/pennylane/_grad.py:185\u001B[0m, in \u001B[0;36mgrad._grad_with_forward\u001B[0;34m(fun, x)\u001B[0m\n\u001B[1;32m    180\u001B[0m \u001B[38;5;250m\u001B[39m\u001B[38;5;124;03m\"\"\"This function is a replica of ``autograd.grad``, with the only\u001B[39;00m\n\u001B[1;32m    181\u001B[0m \u001B[38;5;124;03mdifference being that it returns both the gradient *and* the forward pass\u001B[39;00m\n\u001B[1;32m    182\u001B[0m \u001B[38;5;124;03mvalue.\"\"\"\u001B[39;00m\n\u001B[1;32m    183\u001B[0m vjp, ans \u001B[38;5;241m=\u001B[39m _make_vjp(fun, x)  \u001B[38;5;66;03m# pylint: disable=redefined-outer-name\u001B[39;00m\n\u001B[0;32m--> 185\u001B[0m \u001B[38;5;28;01mif\u001B[39;00m \u001B[43mvspace\u001B[49m\u001B[43m(\u001B[49m\u001B[43mans\u001B[49m\u001B[43m)\u001B[49m\u001B[38;5;241m.\u001B[39msize \u001B[38;5;241m!=\u001B[39m \u001B[38;5;241m1\u001B[39m:\n\u001B[1;32m    186\u001B[0m     \u001B[38;5;28;01mraise\u001B[39;00m \u001B[38;5;167;01mTypeError\u001B[39;00m(\n\u001B[1;32m    187\u001B[0m         \u001B[38;5;124m\"\u001B[39m\u001B[38;5;124mGrad only applies to real scalar-output functions. \u001B[39m\u001B[38;5;124m\"\u001B[39m\n\u001B[1;32m    188\u001B[0m         \u001B[38;5;124m\"\u001B[39m\u001B[38;5;124mTry jacobian, elementwise_grad or holomorphic_grad.\u001B[39m\u001B[38;5;124m\"\u001B[39m\n\u001B[1;32m    189\u001B[0m     )\n\u001B[1;32m    191\u001B[0m grad_value \u001B[38;5;241m=\u001B[39m vjp(vspace(ans)\u001B[38;5;241m.\u001B[39mones())\n",
      "File \u001B[0;32m~/PycharmProjects/Hybrid_QML/.venv/lib/python3.10/site-packages/autograd/core.py:238\u001B[0m, in \u001B[0;36mvspace\u001B[0;34m(value)\u001B[0m\n\u001B[1;32m    236\u001B[0m     \u001B[38;5;28;01mreturn\u001B[39;00m vspace(getval(value))\n\u001B[1;32m    237\u001B[0m \u001B[38;5;28;01melse\u001B[39;00m:\n\u001B[0;32m--> 238\u001B[0m     \u001B[38;5;28;01mraise\u001B[39;00m \u001B[38;5;167;01mTypeError\u001B[39;00m(\u001B[38;5;124m\"\u001B[39m\u001B[38;5;124mCan\u001B[39m\u001B[38;5;124m'\u001B[39m\u001B[38;5;124mt find vector space for value \u001B[39m\u001B[38;5;132;01m{}\u001B[39;00m\u001B[38;5;124m of type \u001B[39m\u001B[38;5;132;01m{}\u001B[39;00m\u001B[38;5;124m. \u001B[39m\u001B[38;5;124m\"\u001B[39m\n\u001B[1;32m    239\u001B[0m                     \u001B[38;5;124m\"\u001B[39m\u001B[38;5;124mValid types are \u001B[39m\u001B[38;5;132;01m{}\u001B[39;00m\u001B[38;5;124m\"\u001B[39m\u001B[38;5;241m.\u001B[39mformat(\n\u001B[1;32m    240\u001B[0m                         value, \u001B[38;5;28mtype\u001B[39m(value), VSpace\u001B[38;5;241m.\u001B[39mmappings\u001B[38;5;241m.\u001B[39mkeys()))\n",
      "\u001B[0;31mTypeError\u001B[0m: Can't find vector space for value expval(  (-0.35125712533244347) [Z4]\n+ (-0.35125712533244347) [Z5]\n+ (-0.28858636819703165) [Z3]\n+ (-0.2885863681970316) [Z2]\n+ (0.3834080218388176) [Z0]\n+ (0.3834080218388176) [Z1]\n+ (1.5846456169939072) [I0]\n+ (-0.015359755135802166) [Y1 Y3]\n+ (-0.015359755135802166) [X1 X3]\n+ (0.002458307679281513) [Y0 Y2]\n+ (0.002458307679281513) [X0 X2]\n+ (0.13568042543550354) [Z0 Z2]\n+ (0.13568042543550354) [Z1 Z3]\n+ (0.1379542348931757) [Z0 Z4]\n+ (0.1379542348931757) [Z1 Z5]\n+ (0.147121439083462) [Z2 Z4]\n+ (0.147121439083462) [Z3 Z5]\n+ (0.1601747840245841) [Z2 Z5]\n+ (0.1601747840245841) [Z3 Z4]\n+ (0.1728047035878498) [Z0 Z3]\n+ (0.1728047035878498) [Z1 Z2]\n+ (0.17501280813960657) [Z0 Z5]\n+ (0.17501280813960657) [Z1 Z4]\n+ (0.17832025863467402) [Z0 Z1]\n+ (0.1883086911405768) [Z2 Z3]\n+ (0.19016756378358313) [Z4 Z5]\n+ (-0.001889591922444053) [Y0 Z1 Y2]\n+ (-0.001889591922444053) [X0 Z1 X2]\n+ (-0.001889591922444053) [Y1 Z2 Y3]\n+ (-0.001889591922444053) [X1 Z2 X3]\n+ (-0.03712427815234623) [Y0 Y1 X2 X3]\n+ (-0.03712427815234623) [X0 X1 Y2 Y3]\n+ (-0.03705857324643087) [Y0 Y1 X4 X5]\n+ (-0.03705857324643087) [X0 X1 Y4 Y5]\n+ (-0.015359755135802166) [Y0 Z1 Y2 Z3]\n+ (-0.015359755135802166) [X0 Z1 X2 Z3]\n+ (-0.013053344941122147) [Y2 Y3 X4 X5]\n+ (-0.013053344941122147) [X2 X3 Y4 Y5]\n+ (0.002227977899405195) [Y0 Z1 Y2 Z4]\n+ (0.002227977899405195) [X0 Z1 X2 Z4]\n+ (0.002227977899405195) [Y1 Z2 Y3 Z5]\n+ (0.002227977899405195) [X1 Z2 X3 Z5]\n+ (0.002458307679281513) [Z0 Y1 Z2 Y3]\n+ (0.002458307679281513) [Z0 X1 Z2 X3]\n+ (0.013053344941122147) [Y2 X3 X4 Y5]\n+ (0.013053344941122147) [X2 Y3 Y4 X5]\n+ (0.015251698377318997) [Y1 X2 X4 Y5]\n+ (0.015251698377318997) [Y1 Y2 Y4 Y5]\n+ (0.015251698377318997) [X1 X2 X4 X5]\n+ (0.015251698377318997) [X1 Y2 Y4 X5]\n+ (0.01747967627672419) [Y0 Z1 Y2 Z5]\n+ (0.01747967627672419) [X0 Z1 X2 Z5]\n+ (0.01747967627672419) [Y1 Z2 Y3 Z4]\n+ (0.01747967627672419) [X1 Z2 X3 Z4]\n+ (0.03705857324643087) [Y0 X1 X4 Y5]\n+ (0.03705857324643087) [X0 Y1 Y4 X5]\n+ (0.03712427815234623) [Y0 X1 X2 Y3]\n+ (0.03712427815234623) [X0 Y1 Y2 X3]\n+ (-0.015251698377318997) [Y0 Z1 Z2 X3 X4 Y5]\n+ (-0.015251698377318997) [X0 Z1 Z2 Y3 Y4 X5]\n+ (0.015251698377318997) [Y0 Z1 Z2 Y3 X4 X5]\n+ (0.015251698377318997) [X0 Z1 Z2 X3 Y4 Y5]) of type <class 'pennylane.measurements.expval.ExpectationMP'>. Valid types are dict_keys([<class 'autograd.core.SparseObject'>, <class 'list'>, <class 'tuple'>, <class 'dict'>, <class 'numpy.ndarray'>, <class 'float'>, <class 'numpy.longdouble'>, <class 'numpy.float64'>, <class 'numpy.float32'>, <class 'numpy.float16'>, <class 'complex'>, <class 'numpy.clongdouble'>, <class 'numpy.complex64'>, <class 'numpy.complex128'>, <class 'numpy.linalg.linalg.EigResult'>, <class 'numpy.linalg.linalg.EighResult'>, <class 'numpy.linalg.linalg.QRResult'>, <class 'numpy.linalg.linalg.SlogdetResult'>, <class 'numpy.linalg.linalg.SVDResult'>, <class 'pennylane.numpy.tensor.tensor'>])"
     ]
    }
   ],
   "source": [
    "import json\n",
    "import pennylane as qml\n",
    "import pennylane.numpy as np\n",
    "\n",
    "symbols = [\"H\", \"H\", \"H\"]\n",
    "\n",
    "\n",
    "def h3_ground_energy(bond_length):\n",
    "    \n",
    "    \"\"\"\n",
    "    Uses VQE to calculate the ground energy of the H3+ molecule with the given bond length.\n",
    "    \n",
    "    Args:\n",
    "        - bond_length(float): The bond length of the H3+ molecule modelled as an\n",
    "        equilateral triangle.\n",
    "    Returns:\n",
    "        - Union[float, np.tensor, np.array]: A float-like output containing the ground \n",
    "        state of the H3+ molecule with the given bond length.\n",
    "    \"\"\"\n",
    "    \n",
    "    # Create the molecule\n",
    "    d = bond_length\n",
    "    coordinates = np.array([[-d/2,-d/2,0],[0,d/2,0],[d/2,-d/2,0]])\n",
    "    coordinates1 = np.array([[0,0,0],[d/2,d,0],[d,0,0]])\n",
    "\n",
    "    # Get the hamiltonian and the number of qubits\n",
    "    hamiltonian , num_wires = qml.qchem.molecular_hamiltonian(symbols, coordinates, charge = 1)\n",
    "    hamiltonian1 , num_wires1 = qml.qchem.molecular_hamiltonian(symbols, coordinates1, charge = 1)\n",
    "    # Prepare a state using fock method\n",
    "    hf = qml.qchem.hf_state(electrons = 2, orbitals = num_wires)\n",
    "    hf1 = qml.qchem.hf_state(electrons = 2, orbitals = num_wires)\n",
    "    # Create a device\n",
    "    dev = qml.device('default.qubit',wires = num_wires)\n",
    "\n",
    "    # Preparing ground state\n",
    "    @qml.qnode(dev)\n",
    "    def exp_energy(state):\n",
    "        qml.BasisState(np.array(state), wires = range(num_wires))\n",
    "        return qml.expval(hamiltonian)\n",
    "    \n",
    "    print(exp_energy(hf))\n",
    "    print(exp_energy(hf1))\n",
    "    \n",
    "    def energy_to_minimize(angles):\n",
    "        qml.BasisState(hf, wires = range(num_wires))\n",
    "        qml.DoubleExcitation(angles[0], wires = [0,1,2,3])\n",
    "        qml.DoubleExcitation(angles[1], wires = [0,1,4,5])\n",
    "        return qml.expval(hamiltonian)\n",
    "\n",
    "    opt = qml.GradientDescentOptimizer(stepsize = 0.1)\n",
    "\n",
    "    angles = np.array([0.,0.], requires_grad = True)\n",
    "    energies = [energy_to_minimize(angles)]\n",
    "    angles_list = [angles]\n",
    "    num_it = 20\n",
    "\n",
    "    for i in range(num_it):\n",
    "        angles, _ = opt.step_and_cost(energy_to_minimize,angles)\n",
    "        energies.append(energy_to_minimize(angles))\n",
    "        angles_list.append(angles)\n",
    "        if i % 5 == 0:\n",
    "            print(f\"Step {i}, Energy {energies[-1]}\")\n",
    "    return energies[-1]\n",
    "\n",
    "if __name__ == '__main__':\n",
    "    bond_length = 0.8\n",
    "    print(h3_ground_energy(bond_length))"
   ],
   "metadata": {
    "collapsed": false,
    "ExecuteTime": {
     "end_time": "2024-02-18T03:10:12.789780927Z",
     "start_time": "2024-02-18T03:10:10.502071624Z"
    }
   },
   "id": "7bed5d5e79a070d4",
   "execution_count": 1
  },
  {
   "cell_type": "code",
   "outputs": [],
   "source": [],
   "metadata": {
    "collapsed": false
   },
   "id": "4193520bc58d4633"
  }
 ],
 "metadata": {
  "kernelspec": {
   "display_name": "Python 3",
   "language": "python",
   "name": "python3"
  },
  "language_info": {
   "codemirror_mode": {
    "name": "ipython",
    "version": 2
   },
   "file_extension": ".py",
   "mimetype": "text/x-python",
   "name": "python",
   "nbconvert_exporter": "python",
   "pygments_lexer": "ipython2",
   "version": "2.7.6"
  }
 },
 "nbformat": 4,
 "nbformat_minor": 5
}
