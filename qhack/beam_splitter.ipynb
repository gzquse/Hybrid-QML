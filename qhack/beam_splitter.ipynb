{
 "cells": [
  {
   "cell_type": "code",
   "execution_count": 4,
   "id": "initial_id",
   "metadata": {
    "collapsed": true,
    "ExecuteTime": {
     "end_time": "2024-02-18T04:03:00.543892894Z",
     "start_time": "2024-02-18T04:03:00.536947074Z"
    }
   },
   "outputs": [
    {
     "name": "stdout",
     "output_type": "stream",
     "text": [
      "Running test case 0 with input '0.5'...\n",
      "Correct!\n",
      "Running test case 1 with input '0.577350269'...\n",
      "Correct!\n"
     ]
    }
   ],
   "source": [
    "import json\n",
    "import pennylane as qml\n",
    "import pennylane.numpy as np\n",
    "\n",
    "def beam_splitter(r):\n",
    "    \"\"\"\n",
    "    Returns the beam splitter matrix.\n",
    "\n",
    "    Args:\n",
    "        - r (float): The reflection coefficient of the beam splitter.\n",
    "    Returns:\n",
    "        - (np.array): 2 x 2 matrix that represents the beam\n",
    "        splitter matrix.    \n",
    "    \"\"\"\n",
    "\n",
    "\n",
    "    # Put your code here\n",
    "    T = np.sqrt(1 - r**2)\n",
    "    return np.array([[r, T], [T, -r]])\n",
    "\n",
    "dev = qml.device('default.qubit')\n",
    "\n",
    "@qml.qnode(dev)\n",
    "def mz_interferometer(r):\n",
    "    \"\"\"\n",
    "    This QNode returns the probability that either A or C\n",
    "    detect a photon, and the probability that D detects a photon.\n",
    "    \n",
    "    Args:\n",
    "        - r (float): The reflection coefficient of the beam splitters.\n",
    "    Returns: \n",
    "        - np.array(float): An array of shape (2,), where the first \n",
    "        element is the probability of detection at A or C,\n",
    "        and the second element is the probability of detection at D.\n",
    "    \"\"\"\n",
    "\n",
    "    BS_matrix = beam_splitter(r)\n",
    "    qml.QubitUnitary(BS_matrix, wires=[0])\n",
    "\n",
    "    # Simulate detector A (by measurement in computational basis)\n",
    "    qml.PauliZ(wires=0)  # Placeholder for conditional operation based on measurement\n",
    "    ret = qml.measure(0)\n",
    "    qml.cond(ret, qml.QubitUnitary)(BS_matrix, wires=[0])\n",
    "    # Apply second beam splitter\n",
    "\n",
    "    return qml.probs([0])\n",
    "\n",
    "\n",
    "# These functions are responsible for testing the solution.\n",
    "\n",
    "\n",
    "def run(test_case_input: str) -> str:\n",
    "    ins = json.loads(test_case_input)\n",
    "    outs = mz_interferometer(ins).tolist()\n",
    "    \n",
    "    return str(outs)\n",
    "\n",
    "\n",
    "def check(solution_output: str, expected_output: str) -> None:\n",
    "    solution_output = json.loads(solution_output)\n",
    "    expected_output = json.loads(expected_output)\n",
    "    assert np.allclose(solution_output,expected_output), \"Not the correct probabilities\"\n",
    "\n",
    "\n",
    "# These are the public test cases\n",
    "test_cases = [\n",
    "    ('0.5', '[0.8125, 0.1875]'),\n",
    "    ('0.577350269', '[0.777778, 0.222222]')\n",
    "]\n",
    "\n",
    "# This will run the public test cases locally\n",
    "for i, (input_, expected_output) in enumerate(test_cases):\n",
    "    print(f\"Running test case {i} with input '{input_}'...\")\n",
    "\n",
    "    try:\n",
    "        output = run(input_)\n",
    "\n",
    "    except Exception as exc:\n",
    "        print(f\"Runtime Error. {exc}\")\n",
    "\n",
    "    else:\n",
    "        if message := check(output, expected_output):\n",
    "            print(f\"Wrong Answer. Have: '{output}'. Want: '{expected_output}'.\")\n",
    "\n",
    "        else:\n",
    "            print(\"Correct!\")"
   ]
  },
  {
   "cell_type": "code",
   "outputs": [],
   "source": [],
   "metadata": {
    "collapsed": false
   },
   "id": "514e0040e8ca2e3b"
  }
 ],
 "metadata": {
  "kernelspec": {
   "display_name": "Python 3",
   "language": "python",
   "name": "python3"
  },
  "language_info": {
   "codemirror_mode": {
    "name": "ipython",
    "version": 2
   },
   "file_extension": ".py",
   "mimetype": "text/x-python",
   "name": "python",
   "nbconvert_exporter": "python",
   "pygments_lexer": "ipython2",
   "version": "2.7.6"
  }
 },
 "nbformat": 4,
 "nbformat_minor": 5
}
