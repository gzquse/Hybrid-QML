{
 "cells": [
  {
   "cell_type": "code",
   "execution_count": 29,
   "id": "initial_id",
   "metadata": {
    "collapsed": true,
    "ExecuteTime": {
     "end_time": "2024-01-25T11:17:25.525098642Z",
     "start_time": "2024-01-25T11:17:25.462036370Z"
    }
   },
   "outputs": [
    {
     "name": "stdout",
     "output_type": "stream",
     "text": [
      "Running test case 0 with input '[[1,0.5,-0.765], [0.1,0,-0.654]]'...\n",
      "Correct!\n",
      "Running test case 1 with input '[[0.94,-0.2,6.03],[-2.6,-0.058,1.2]]'...\n",
      "Correct!\n"
     ]
    }
   ],
   "source": [
    "import json\n",
    "import pennylane as qml\n",
    "import pennylane.numpy as np\n",
    "from matplotlib import pyplot as plt\n",
    "dev = qml.device(\"default.qubit\", wires=3)\n",
    "\n",
    "@qml.qnode(dev)\n",
    "def circuit(weights):\n",
    "    \n",
    "    # Build the circuit here\n",
    "    qml.RX(weights[0][0], wires=0)\n",
    "    qml.RY(weights[0][1], wires=1)\n",
    "    qml.RZ(weights[0][2], wires=2)\n",
    "\n",
    "    qml.broadcast(qml.CNOT, wires=[0, 1, 2], pattern=\"ring\")\n",
    "\n",
    "    qml.RX(weights[1][0], wires=0)\n",
    "    qml.RY(weights[1][1], wires=1)\n",
    "    qml.RZ(weights[1][2], wires=2)\n",
    "\n",
    "    qml.broadcast(qml.CNOT, wires=[0, 1, 2], pattern=\"ring\")\n",
    "    # Return the Y0xZ2 observable\n",
    "\n",
    "    return qml.expval(qml.PauliY(0) @ qml.PauliZ(2))\n",
    "\n",
    "\n",
    "def parameter_shift(weights):\n",
    "    \"\"\"Compute the gradient of the variational circuit using the parameter-shift rule.\"\"\"\n",
    "\n",
    "    grad = np.zeros_like(weights)\n",
    "    s = np.pi/2\n",
    "\n",
    "    for i in range(2):\n",
    "        for j in range(3):\n",
    "            shifted_weights = weights.copy()\n",
    "\n",
    "            # Shift parameter up\n",
    "            shifted_weights[i, j] += s\n",
    "            forward = circuit(shifted_weights)\n",
    "\n",
    "            # Shift parameter down\n",
    "            shifted_weights[i, j] -= 2 * s\n",
    "            backward = circuit(shifted_weights)\n",
    "\n",
    "            # Compute gradient using parameter-shift rule\n",
    "            grad[i, j] = (forward - backward) / (2 * np.sin(s))\n",
    "\n",
    "    return grad\n",
    "    # Return the gradient calculated using the parameter-shift rule\n",
    "    \n",
    "\n",
    "\n",
    "# These functions are responsible for testing the solution.\n",
    "def run(test_case_input: str) -> str:\n",
    "    \n",
    "    ins = np.array(json.loads(test_case_input), requires_grad = True)\n",
    "    out = parameter_shift(ins).round(3).tolist()\n",
    "    \n",
    "    return str(out)\n",
    "    \n",
    "def check(solution_output: str, expected_output: str) -> None:\n",
    "    solution_output = json.loads(solution_output)\n",
    "    expected_output = json.loads(expected_output)\n",
    "    \n",
    "    assert np.allclose(solution_output, expected_output, atol=1e-2), \"The gradient calculated isn't quite right.\"\n",
    "\n",
    "\n",
    "# These are the public test cases\n",
    "test_cases = [\n",
    "    ('[[1,0.5,-0.765], [0.1,0,-0.654]]', '[[0.0, 0.0, 0.0], [0.0, -0.455, 0.0]]'),\n",
    "    ('[[0.94,-0.2,6.03],[-2.6,-0.058,1.2]]', '[[0.03, -0.039, 0.0], [-0.034, 0.166, 0.0]]')\n",
    "]\n",
    "# This will run the public test cases locally\n",
    "for i, (input_, expected_output) in enumerate(test_cases):\n",
    "    print(f\"Running test case {i} with input '{input_}'...\")\n",
    "\n",
    "    try:\n",
    "        output = run(input_)\n",
    "\n",
    "    except Exception as exc:\n",
    "        print(f\"Runtime Error. {exc}\")\n",
    "\n",
    "    else:\n",
    "        if message := check(output, expected_output):\n",
    "            print(f\"Wrong Answer. Have: '{output}'. Want: '{expected_output}'.\")\n",
    "\n",
    "        else:\n",
    "            print(\"Correct!\")\n",
    "            \n"
   ]
  },
  {
   "cell_type": "code",
   "outputs": [],
   "source": [],
   "metadata": {
    "collapsed": false
   },
   "id": "9c62e6801cd54525"
  },
  {
   "cell_type": "code",
   "outputs": [],
   "source": [],
   "metadata": {
    "collapsed": false
   },
   "id": "7e93b6375f147980"
  },
  {
   "cell_type": "code",
   "outputs": [],
   "source": [],
   "metadata": {
    "collapsed": false
   },
   "id": "5ab65f15b7c22446"
  }
 ],
 "metadata": {
  "kernelspec": {
   "display_name": "Python 3",
   "language": "python",
   "name": "python3"
  },
  "language_info": {
   "codemirror_mode": {
    "name": "ipython",
    "version": 2
   },
   "file_extension": ".py",
   "mimetype": "text/x-python",
   "name": "python",
   "nbconvert_exporter": "python",
   "pygments_lexer": "ipython2",
   "version": "2.7.6"
  }
 },
 "nbformat": 4,
 "nbformat_minor": 5
}
