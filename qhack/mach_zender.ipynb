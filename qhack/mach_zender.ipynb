{
 "cells": [
  {
   "cell_type": "code",
   "execution_count": 1,
   "id": "initial_id",
   "metadata": {
    "collapsed": true,
    "ExecuteTime": {
     "end_time": "2024-02-18T03:06:30.621350538Z",
     "start_time": "2024-02-18T03:06:28.942015780Z"
    }
   },
   "outputs": [
    {
     "ename": "TypeError",
     "evalue": "'SampleMP' object is not subscriptable",
     "output_type": "error",
     "traceback": [
      "\u001B[0;31m---------------------------------------------------------------------------\u001B[0m",
      "\u001B[0;31mTypeError\u001B[0m                                 Traceback (most recent call last)",
      "Cell \u001B[0;32mIn[1], line 30\u001B[0m\n\u001B[1;32m     27\u001B[0m r \u001B[38;5;241m=\u001B[39m \u001B[38;5;241m0.1\u001B[39m\n\u001B[1;32m     29\u001B[0m drawer \u001B[38;5;241m=\u001B[39m qml\u001B[38;5;241m.\u001B[39mdraw(my_circuit, show_all_wires\u001B[38;5;241m=\u001B[39m\u001B[38;5;28;01mTrue\u001B[39;00m, wire_order\u001B[38;5;241m=\u001B[39m[\u001B[38;5;241m0\u001B[39m,\u001B[38;5;241m1\u001B[39m])\n\u001B[0;32m---> 30\u001B[0m \u001B[38;5;28mprint\u001B[39m(\u001B[43mdrawer\u001B[49m\u001B[43m(\u001B[49m\u001B[43mr\u001B[49m\u001B[43m)\u001B[49m)\n\u001B[1;32m     32\u001B[0m result \u001B[38;5;241m=\u001B[39m my_circuit(r)\n\u001B[1;32m     33\u001B[0m \u001B[38;5;28mprint\u001B[39m(result)\n",
      "File \u001B[0;32m~/PycharmProjects/Hybrid_QML/.venv/lib/python3.10/site-packages/pennylane/drawer/draw.py:266\u001B[0m, in \u001B[0;36m_draw_qnode.<locals>.wrapper\u001B[0;34m(*args, **kwargs)\u001B[0m\n\u001B[1;32m    264\u001B[0m \u001B[38;5;28;01mtry\u001B[39;00m:\n\u001B[1;32m    265\u001B[0m     qnode\u001B[38;5;241m.\u001B[39mexpansion_strategy \u001B[38;5;241m=\u001B[39m expansion_strategy \u001B[38;5;129;01mor\u001B[39;00m original_expansion_strategy\n\u001B[0;32m--> 266\u001B[0m     tapes \u001B[38;5;241m=\u001B[39m \u001B[43mqnode\u001B[49m\u001B[38;5;241;43m.\u001B[39;49m\u001B[43mconstruct\u001B[49m\u001B[43m(\u001B[49m\u001B[43margs\u001B[49m\u001B[43m,\u001B[49m\u001B[43m \u001B[49m\u001B[43mkwargs\u001B[49m\u001B[43m)\u001B[49m\n\u001B[1;32m    267\u001B[0m     \u001B[38;5;28;01mif\u001B[39;00m \u001B[38;5;28misinstance\u001B[39m(qnode\u001B[38;5;241m.\u001B[39mdevice, qml\u001B[38;5;241m.\u001B[39mdevices\u001B[38;5;241m.\u001B[39mDevice):\n\u001B[1;32m    268\u001B[0m         program \u001B[38;5;241m=\u001B[39m qnode\u001B[38;5;241m.\u001B[39mtransform_program\n",
      "File \u001B[0;32m~/PycharmProjects/Hybrid_QML/.venv/lib/python3.10/site-packages/pennylane/qnode.py:862\u001B[0m, in \u001B[0;36mQNode.construct\u001B[0;34m(self, args, kwargs)\u001B[0m\n\u001B[1;32m    859\u001B[0m     \u001B[38;5;28mself\u001B[39m\u001B[38;5;241m.\u001B[39minterface \u001B[38;5;241m=\u001B[39m qml\u001B[38;5;241m.\u001B[39mmath\u001B[38;5;241m.\u001B[39mget_interface(\u001B[38;5;241m*\u001B[39margs, \u001B[38;5;241m*\u001B[39m\u001B[38;5;28mlist\u001B[39m(kwargs\u001B[38;5;241m.\u001B[39mvalues()))\n\u001B[1;32m    861\u001B[0m \u001B[38;5;28;01mwith\u001B[39;00m qml\u001B[38;5;241m.\u001B[39mqueuing\u001B[38;5;241m.\u001B[39mAnnotatedQueue() \u001B[38;5;28;01mas\u001B[39;00m q:\n\u001B[0;32m--> 862\u001B[0m     \u001B[38;5;28mself\u001B[39m\u001B[38;5;241m.\u001B[39m_qfunc_output \u001B[38;5;241m=\u001B[39m \u001B[38;5;28;43mself\u001B[39;49m\u001B[38;5;241;43m.\u001B[39;49m\u001B[43mfunc\u001B[49m\u001B[43m(\u001B[49m\u001B[38;5;241;43m*\u001B[39;49m\u001B[43margs\u001B[49m\u001B[43m,\u001B[49m\u001B[43m \u001B[49m\u001B[38;5;241;43m*\u001B[39;49m\u001B[38;5;241;43m*\u001B[39;49m\u001B[43mkwargs\u001B[49m\u001B[43m)\u001B[49m\n\u001B[1;32m    864\u001B[0m \u001B[38;5;28mself\u001B[39m\u001B[38;5;241m.\u001B[39m_tape \u001B[38;5;241m=\u001B[39m QuantumScript\u001B[38;5;241m.\u001B[39mfrom_queue(q, shots)\n\u001B[1;32m    866\u001B[0m params \u001B[38;5;241m=\u001B[39m \u001B[38;5;28mself\u001B[39m\u001B[38;5;241m.\u001B[39mtape\u001B[38;5;241m.\u001B[39mget_parameters(trainable_only\u001B[38;5;241m=\u001B[39m\u001B[38;5;28;01mFalse\u001B[39;00m)\n",
      "Cell \u001B[0;32mIn[1], line 21\u001B[0m, in \u001B[0;36mmy_circuit\u001B[0;34m(r)\u001B[0m\n\u001B[1;32m     18\u001B[0m result \u001B[38;5;241m=\u001B[39m qml\u001B[38;5;241m.\u001B[39msample(qml\u001B[38;5;241m.\u001B[39mPauliZ(\u001B[38;5;241m0\u001B[39m))\n\u001B[1;32m     20\u001B[0m \u001B[38;5;66;03m# Depending on the measurement outcome, apply a second beam splitter\u001B[39;00m\n\u001B[0;32m---> 21\u001B[0m \u001B[38;5;28;01mif\u001B[39;00m \u001B[43mresult\u001B[49m\u001B[43m[\u001B[49m\u001B[38;5;241;43m0\u001B[39;49m\u001B[43m]\u001B[49m \u001B[38;5;241m==\u001B[39m \u001B[38;5;241m1\u001B[39m:\n\u001B[1;32m     22\u001B[0m     qml\u001B[38;5;241m.\u001B[39mQubitUnitary(beam_splitter_matrix(r), wires\u001B[38;5;241m=\u001B[39m\u001B[38;5;241m0\u001B[39m)\n\u001B[1;32m     24\u001B[0m \u001B[38;5;66;03m# Return the probabilities of being in the states 0 and 1\u001B[39;00m\n",
      "\u001B[0;31mTypeError\u001B[0m: 'SampleMP' object is not subscriptable"
     ]
    }
   ],
   "source": [
    "import pennylane as qml\n",
    "from pennylane import numpy as np\n",
    "\n",
    "\n",
    "\n",
    "dev = qml.device(\"default.qubit\", wires=1)\n",
    "    \n",
    "def beam_splitter_matrix(r):\n",
    "    return np.array([[r,np.sqrt(1-r**2)],[np.sqrt(1-r**2),-r]])\n",
    "\n",
    "@qml.qnode(dev)\n",
    "\n",
    "def my_circuit(r):\n",
    "    qml.QubitUnitary(beam_splitter_matrix(r), wires=0)\n",
    "\n",
    "    # First measurement\n",
    "    \n",
    "    result = qml.sample(qml.PauliZ(0))\n",
    "\n",
    "    # Depending on the measurement outcome, apply a second beam splitter\n",
    "    if result[0] == 1:\n",
    "        qml.QubitUnitary(beam_splitter_matrix(r), wires=0)\n",
    "\n",
    "    # Return the probabilities of being in the states 0 and 1\n",
    "    return qml.probs(wires=[0])\n",
    "\n",
    "r = 0.1\n",
    "\n",
    "drawer = qml.draw(my_circuit, show_all_wires=True, wire_order=[0,1])\n",
    "print(drawer(r))\n",
    "\n",
    "result = my_circuit(r)\n",
    "print(result)"
   ]
  },
  {
   "cell_type": "code",
   "outputs": [],
   "source": [],
   "metadata": {
    "collapsed": false
   },
   "id": "358e75515698b8ce"
  }
 ],
 "metadata": {
  "kernelspec": {
   "display_name": "Python 3",
   "language": "python",
   "name": "python3"
  },
  "language_info": {
   "codemirror_mode": {
    "name": "ipython",
    "version": 2
   },
   "file_extension": ".py",
   "mimetype": "text/x-python",
   "name": "python",
   "nbconvert_exporter": "python",
   "pygments_lexer": "ipython2",
   "version": "2.7.6"
  }
 },
 "nbformat": 4,
 "nbformat_minor": 5
}
