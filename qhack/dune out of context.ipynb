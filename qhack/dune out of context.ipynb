{
 "cells": [
  {
   "cell_type": "code",
   "execution_count": 21,
   "id": "initial_id",
   "metadata": {
    "ExecuteTime": {
     "end_time": "2024-02-15T01:18:03.048857191Z",
     "start_time": "2024-02-15T01:18:03.033724058Z"
    }
   },
   "outputs": [
    {
     "ename": "ValueError",
     "evalue": "Features must be of length 2; got length 3. Use the 'pad_with' argument for automated padding.",
     "output_type": "error",
     "traceback": [
      "\u001B[0;31m---------------------------------------------------------------------------\u001B[0m",
      "\u001B[0;31mValueError\u001B[0m                                Traceback (most recent call last)",
      "Cell \u001B[0;32mIn[21], line 9\u001B[0m\n\u001B[1;32m      7\u001B[0m     qml\u001B[38;5;241m.\u001B[39mAmplitudeEmbedding(np\u001B[38;5;241m.\u001B[39marray([np\u001B[38;5;241m.\u001B[39msin(chi)\u001B[38;5;241m*\u001B[39mnp\u001B[38;5;241m.\u001B[39mcos(eta), np\u001B[38;5;241m.\u001B[39msin(chi)\u001B[38;5;241m*\u001B[39mnp\u001B[38;5;241m.\u001B[39msin(eta), np\u001B[38;5;241m.\u001B[39mcos(chi)]), wires\u001B[38;5;241m=\u001B[39m\u001B[38;5;241m0\u001B[39m)\n\u001B[1;32m      8\u001B[0m     \u001B[38;5;28;01mreturn\u001B[39;00m qml\u001B[38;5;241m.\u001B[39mstate()\n\u001B[0;32m----> 9\u001B[0m \u001B[38;5;28mprint\u001B[39m(\u001B[43mexample_circuit\u001B[49m\u001B[43m(\u001B[49m\u001B[43m)\u001B[49m)\n",
      "File \u001B[0;32m~/PycharmProjects/Hybrid_QML/.venv/lib/python3.10/site-packages/pennylane/qnode.py:976\u001B[0m, in \u001B[0;36mQNode.__call__\u001B[0;34m(self, *args, **kwargs)\u001B[0m\n\u001B[1;32m    973\u001B[0m         kwargs[\u001B[38;5;124m\"\u001B[39m\u001B[38;5;124mshots\u001B[39m\u001B[38;5;124m\"\u001B[39m] \u001B[38;5;241m=\u001B[39m _get_device_shots(\u001B[38;5;28mself\u001B[39m\u001B[38;5;241m.\u001B[39m_original_device)\n\u001B[1;32m    975\u001B[0m \u001B[38;5;66;03m# construct the tape\u001B[39;00m\n\u001B[0;32m--> 976\u001B[0m \u001B[38;5;28;43mself\u001B[39;49m\u001B[38;5;241;43m.\u001B[39;49m\u001B[43mconstruct\u001B[49m\u001B[43m(\u001B[49m\u001B[43margs\u001B[49m\u001B[43m,\u001B[49m\u001B[43m \u001B[49m\u001B[43mkwargs\u001B[49m\u001B[43m)\u001B[49m\n\u001B[1;32m    978\u001B[0m cache \u001B[38;5;241m=\u001B[39m \u001B[38;5;28mself\u001B[39m\u001B[38;5;241m.\u001B[39mexecute_kwargs\u001B[38;5;241m.\u001B[39mget(\u001B[38;5;124m\"\u001B[39m\u001B[38;5;124mcache\u001B[39m\u001B[38;5;124m\"\u001B[39m, \u001B[38;5;28;01mFalse\u001B[39;00m)\n\u001B[1;32m    979\u001B[0m using_custom_cache \u001B[38;5;241m=\u001B[39m (\n\u001B[1;32m    980\u001B[0m     \u001B[38;5;28mhasattr\u001B[39m(cache, \u001B[38;5;124m\"\u001B[39m\u001B[38;5;124m__getitem__\u001B[39m\u001B[38;5;124m\"\u001B[39m)\n\u001B[1;32m    981\u001B[0m     \u001B[38;5;129;01mand\u001B[39;00m \u001B[38;5;28mhasattr\u001B[39m(cache, \u001B[38;5;124m\"\u001B[39m\u001B[38;5;124m__setitem__\u001B[39m\u001B[38;5;124m\"\u001B[39m)\n\u001B[1;32m    982\u001B[0m     \u001B[38;5;129;01mand\u001B[39;00m \u001B[38;5;28mhasattr\u001B[39m(cache, \u001B[38;5;124m\"\u001B[39m\u001B[38;5;124m__delitem__\u001B[39m\u001B[38;5;124m\"\u001B[39m)\n\u001B[1;32m    983\u001B[0m )\n",
      "File \u001B[0;32m~/PycharmProjects/Hybrid_QML/.venv/lib/python3.10/site-packages/pennylane/qnode.py:862\u001B[0m, in \u001B[0;36mQNode.construct\u001B[0;34m(self, args, kwargs)\u001B[0m\n\u001B[1;32m    859\u001B[0m     \u001B[38;5;28mself\u001B[39m\u001B[38;5;241m.\u001B[39minterface \u001B[38;5;241m=\u001B[39m qml\u001B[38;5;241m.\u001B[39mmath\u001B[38;5;241m.\u001B[39mget_interface(\u001B[38;5;241m*\u001B[39margs, \u001B[38;5;241m*\u001B[39m\u001B[38;5;28mlist\u001B[39m(kwargs\u001B[38;5;241m.\u001B[39mvalues()))\n\u001B[1;32m    861\u001B[0m \u001B[38;5;28;01mwith\u001B[39;00m qml\u001B[38;5;241m.\u001B[39mqueuing\u001B[38;5;241m.\u001B[39mAnnotatedQueue() \u001B[38;5;28;01mas\u001B[39;00m q:\n\u001B[0;32m--> 862\u001B[0m     \u001B[38;5;28mself\u001B[39m\u001B[38;5;241m.\u001B[39m_qfunc_output \u001B[38;5;241m=\u001B[39m \u001B[38;5;28;43mself\u001B[39;49m\u001B[38;5;241;43m.\u001B[39;49m\u001B[43mfunc\u001B[49m\u001B[43m(\u001B[49m\u001B[38;5;241;43m*\u001B[39;49m\u001B[43margs\u001B[49m\u001B[43m,\u001B[49m\u001B[43m \u001B[49m\u001B[38;5;241;43m*\u001B[39;49m\u001B[38;5;241;43m*\u001B[39;49m\u001B[43mkwargs\u001B[49m\u001B[43m)\u001B[49m\n\u001B[1;32m    864\u001B[0m \u001B[38;5;28mself\u001B[39m\u001B[38;5;241m.\u001B[39m_tape \u001B[38;5;241m=\u001B[39m QuantumScript\u001B[38;5;241m.\u001B[39mfrom_queue(q, shots)\n\u001B[1;32m    866\u001B[0m params \u001B[38;5;241m=\u001B[39m \u001B[38;5;28mself\u001B[39m\u001B[38;5;241m.\u001B[39mtape\u001B[38;5;241m.\u001B[39mget_parameters(trainable_only\u001B[38;5;241m=\u001B[39m\u001B[38;5;28;01mFalse\u001B[39;00m)\n",
      "Cell \u001B[0;32mIn[21], line 7\u001B[0m, in \u001B[0;36mexample_circuit\u001B[0;34m()\u001B[0m\n\u001B[1;32m      5\u001B[0m \u001B[38;5;129m@qml\u001B[39m\u001B[38;5;241m.\u001B[39mqnode(dev)\n\u001B[1;32m      6\u001B[0m \u001B[38;5;28;01mdef\u001B[39;00m \u001B[38;5;21mexample_circuit\u001B[39m():\n\u001B[0;32m----> 7\u001B[0m     \u001B[43mqml\u001B[49m\u001B[38;5;241;43m.\u001B[39;49m\u001B[43mAmplitudeEmbedding\u001B[49m\u001B[43m(\u001B[49m\u001B[43mnp\u001B[49m\u001B[38;5;241;43m.\u001B[39;49m\u001B[43marray\u001B[49m\u001B[43m(\u001B[49m\u001B[43m[\u001B[49m\u001B[43mnp\u001B[49m\u001B[38;5;241;43m.\u001B[39;49m\u001B[43msin\u001B[49m\u001B[43m(\u001B[49m\u001B[43mchi\u001B[49m\u001B[43m)\u001B[49m\u001B[38;5;241;43m*\u001B[39;49m\u001B[43mnp\u001B[49m\u001B[38;5;241;43m.\u001B[39;49m\u001B[43mcos\u001B[49m\u001B[43m(\u001B[49m\u001B[43meta\u001B[49m\u001B[43m)\u001B[49m\u001B[43m,\u001B[49m\u001B[43m \u001B[49m\u001B[43mnp\u001B[49m\u001B[38;5;241;43m.\u001B[39;49m\u001B[43msin\u001B[49m\u001B[43m(\u001B[49m\u001B[43mchi\u001B[49m\u001B[43m)\u001B[49m\u001B[38;5;241;43m*\u001B[39;49m\u001B[43mnp\u001B[49m\u001B[38;5;241;43m.\u001B[39;49m\u001B[43msin\u001B[49m\u001B[43m(\u001B[49m\u001B[43meta\u001B[49m\u001B[43m)\u001B[49m\u001B[43m,\u001B[49m\u001B[43m \u001B[49m\u001B[43mnp\u001B[49m\u001B[38;5;241;43m.\u001B[39;49m\u001B[43mcos\u001B[49m\u001B[43m(\u001B[49m\u001B[43mchi\u001B[49m\u001B[43m)\u001B[49m\u001B[43m]\u001B[49m\u001B[43m)\u001B[49m\u001B[43m,\u001B[49m\u001B[43m \u001B[49m\u001B[43mwires\u001B[49m\u001B[38;5;241;43m=\u001B[39;49m\u001B[38;5;241;43m0\u001B[39;49m\u001B[43m)\u001B[49m\n\u001B[1;32m      8\u001B[0m     \u001B[38;5;28;01mreturn\u001B[39;00m qml\u001B[38;5;241m.\u001B[39mstate()\n",
      "File \u001B[0;32m~/PycharmProjects/Hybrid_QML/.venv/lib/python3.10/site-packages/pennylane/templates/embeddings/amplitude.py:125\u001B[0m, in \u001B[0;36mAmplitudeEmbedding.__init__\u001B[0;34m(self, features, wires, pad_with, normalize, id)\u001B[0m\n\u001B[1;32m    123\u001B[0m \u001B[38;5;28mself\u001B[39m\u001B[38;5;241m.\u001B[39mpad_with \u001B[38;5;241m=\u001B[39m pad_with\n\u001B[1;32m    124\u001B[0m \u001B[38;5;28mself\u001B[39m\u001B[38;5;241m.\u001B[39mnormalize \u001B[38;5;241m=\u001B[39m normalize\n\u001B[0;32m--> 125\u001B[0m features \u001B[38;5;241m=\u001B[39m \u001B[38;5;28;43mself\u001B[39;49m\u001B[38;5;241;43m.\u001B[39;49m\u001B[43m_preprocess\u001B[49m\u001B[43m(\u001B[49m\u001B[43mfeatures\u001B[49m\u001B[43m,\u001B[49m\u001B[43m \u001B[49m\u001B[43mwires\u001B[49m\u001B[43m,\u001B[49m\u001B[43m \u001B[49m\u001B[43mpad_with\u001B[49m\u001B[43m,\u001B[49m\u001B[43m \u001B[49m\u001B[43mnormalize\u001B[49m\u001B[43m)\u001B[49m\n\u001B[1;32m    126\u001B[0m \u001B[38;5;28msuper\u001B[39m(StatePrep, \u001B[38;5;28mself\u001B[39m)\u001B[38;5;241m.\u001B[39m\u001B[38;5;21m__init__\u001B[39m(features, wires\u001B[38;5;241m=\u001B[39mwires, \u001B[38;5;28mid\u001B[39m\u001B[38;5;241m=\u001B[39m\u001B[38;5;28mid\u001B[39m)\n",
      "File \u001B[0;32m~/PycharmProjects/Hybrid_QML/.venv/lib/python3.10/site-packages/pennylane/templates/embeddings/amplitude.py:179\u001B[0m, in \u001B[0;36mAmplitudeEmbedding._preprocess\u001B[0;34m(features, wires, pad_with, normalize)\u001B[0m\n\u001B[1;32m    177\u001B[0m dim \u001B[38;5;241m=\u001B[39m \u001B[38;5;241m2\u001B[39m \u001B[38;5;241m*\u001B[39m\u001B[38;5;241m*\u001B[39m \u001B[38;5;28mlen\u001B[39m(wires)\n\u001B[1;32m    178\u001B[0m \u001B[38;5;28;01mif\u001B[39;00m pad_with \u001B[38;5;129;01mis\u001B[39;00m \u001B[38;5;28;01mNone\u001B[39;00m \u001B[38;5;129;01mand\u001B[39;00m n_features \u001B[38;5;241m!=\u001B[39m dim:\n\u001B[0;32m--> 179\u001B[0m     \u001B[38;5;28;01mraise\u001B[39;00m \u001B[38;5;167;01mValueError\u001B[39;00m(\n\u001B[1;32m    180\u001B[0m         \u001B[38;5;124mf\u001B[39m\u001B[38;5;124m\"\u001B[39m\u001B[38;5;124mFeatures must be of length \u001B[39m\u001B[38;5;132;01m{\u001B[39;00mdim\u001B[38;5;132;01m}\u001B[39;00m\u001B[38;5;124m; got length \u001B[39m\u001B[38;5;132;01m{\u001B[39;00mn_features\u001B[38;5;132;01m}\u001B[39;00m\u001B[38;5;124m. \u001B[39m\u001B[38;5;124m\"\u001B[39m\n\u001B[1;32m    181\u001B[0m         \u001B[38;5;124mf\u001B[39m\u001B[38;5;124m\"\u001B[39m\u001B[38;5;124mUse the \u001B[39m\u001B[38;5;124m'\u001B[39m\u001B[38;5;124mpad_with\u001B[39m\u001B[38;5;124m'\u001B[39m\u001B[38;5;124m argument for automated padding.\u001B[39m\u001B[38;5;124m\"\u001B[39m\n\u001B[1;32m    182\u001B[0m     )\n\u001B[1;32m    184\u001B[0m \u001B[38;5;28;01mif\u001B[39;00m pad_with \u001B[38;5;129;01mis\u001B[39;00m \u001B[38;5;129;01mnot\u001B[39;00m \u001B[38;5;28;01mNone\u001B[39;00m:\n\u001B[1;32m    185\u001B[0m     \u001B[38;5;28;01mif\u001B[39;00m n_features \u001B[38;5;241m>\u001B[39m dim:\n",
      "\u001B[0;31mValueError\u001B[0m: Features must be of length 2; got length 3. Use the 'pad_with' argument for automated padding."
     ]
    }
   ],
   "source": [
    "import pennylane as qml\n",
    "from pennylane import numpy as np\n",
    "\n",
    "dev = qml.device('default.qutrit', wires=1)\n",
    "@qml.qnode(dev)\n",
    "def example_circuit():\n",
    "    qml.TRX()\n",
    "    return qml.state()\n",
    "print(example_circuit())"
   ]
  },
  {
   "cell_type": "code",
   "execution_count": 2,
   "id": "417ea1b6-e053-44a3-9d21-e961a231967d",
   "metadata": {
    "ExecuteTime": {
     "end_time": "2024-02-19T21:11:40.107191488Z",
     "start_time": "2024-02-19T21:11:40.098023880Z"
    }
   },
   "outputs": [
    {
     "name": "stdout",
     "output_type": "stream",
     "text": [
      "Running test case 0 with input '[0.838283, [0.6283189, 1.884956, 3.141593, 4.398230, 5.654867]]'...\n",
      "state(wires=[])\n",
      "Runtime Error. All measurements must be returned in the order they are measured.\n",
      "Running test case 1 with input '[0.4, [1.047198, 2.094395, 3.141593, 4.18879, 5.235988]]'...\n",
      "state(wires=[])\n",
      "Runtime Error. All measurements must be returned in the order they are measured.\n"
     ]
    }
   ],
   "source": [
    "import json\n",
    "import pennylane as qml\n",
    "import pennylane.numpy as np\n",
    "\n",
    "dev = qml.device('default.qutrit', wires = 1)\n",
    "\n",
    "@qml.qnode(dev)\n",
    "def prepare_qutrit(chi, eta):\n",
    "    \"\"\"\n",
    "    This QNode prepares the state |phi> as defined in the statement and\n",
    "    computes the measurement probabilities in the qutrit computational basis.\n",
    "    \n",
    "    Args: \n",
    "        - chi (float): The angle chi parametrizing the state |phi>.\n",
    "        - eta (float): The angle eta parametrizing the state |eta>.\n",
    "    Returns:\n",
    "        - (np.array(float)): The measurement probabilities in the computational\n",
    "        basis after preparing the state.\n",
    "    \n",
    "    \"\"\"\n",
    "\n",
    "\n",
    "    # Put your code here #\n",
    "    qml.QutritBasisState(np.array([2]), wires=[0])\n",
    "    qml.TRY(2*chi, wires=[0], subspace=(1, 2))\n",
    "    qml.TRY(2*eta, wires=[0], subspace=(0, 1))\n",
    "\n",
    "\n",
    "    return qml.probs(wires=0)\n",
    "\n",
    "\n",
    "def evaluate_sum(chi, eta_array):\n",
    "    \"\"\"\n",
    "    This QNode computes the sum S as in the statement.\n",
    "    \n",
    "    Args: \n",
    "        chi (float): The angle chi parametrizing the states |phi_i>.\n",
    "        eta_array (float): Contains the angles eta_i parametrizing the state |eta_i>.\n",
    "    Returns:\n",
    "        (np.array(float)): The sum S as defined in the statement.\n",
    "        \n",
    "    \"\"\"\n",
    "\n",
    "\n",
    "    # Put your code here\n",
    "    S = 0\n",
    "    for eta in eta_array:\n",
    "        probs = prepare_qutrit(chi, eta)\n",
    "        prob2 = probs[2]\n",
    "        S += prob2\n",
    "    return S\n",
    "\n",
    "# These functions are responsible for testing the solution.\n",
    "\n",
    "\n",
    "def run(test_case_input: str) -> str:\n",
    "    ins = json.loads(test_case_input)\n",
    "    outs = evaluate_sum(*ins)\n",
    "    \n",
    "    return str(outs)\n",
    "\n",
    "\n",
    "def check(solution_output: str, expected_output: str) -> None:\n",
    "    solution_output = json.loads(solution_output)\n",
    "    expected_output = json.loads(expected_output)\n",
    "    assert np.allclose(solution_output,expected_output, atol = 1e-4), \"Not the correct sum!\"\n",
    "\n",
    "\n",
    "# These are the public test cases\n",
    "test_cases = [\n",
    "    ('[0.838283, [0.6283189, 1.884956, 3.141593, 4.398230, 5.654867]]', '2.236069'),\n",
    "    ('[0.4, [1.047198, 2.094395, 3.141593, 4.18879, 5.235988]]', '4.241767')\n",
    "]\n",
    "\n",
    "# This will run the public test cases locally\n",
    "for i, (input_, expected_output) in enumerate(test_cases):\n",
    "    print(f\"Running test case {i} with input '{input_}'...\")\n",
    "\n",
    "    try:\n",
    "        output = run(input_)\n",
    "\n",
    "    except Exception as exc:\n",
    "        print(f\"Runtime Error. {exc}\")\n",
    "\n",
    "    else:\n",
    "        if message := check(output, expected_output):\n",
    "            print(f\"Wrong Answer. Have: '{output}'. Want: '{expected_output}'.\")\n",
    "\n",
    "        else:\n",
    "            print(\"Correct!\")"
   ]
  },
  {
   "cell_type": "code",
   "execution_count": 9,
   "id": "6e04dbd3-30b0-49c4-b603-9f18f9274491",
   "metadata": {},
   "outputs": [
    {
     "ename": "DeviceError",
     "evalue": "Gate RY not supported on device default.qutrit",
     "output_type": "error",
     "traceback": [
      "\u001B[0;31m---------------------------------------------------------------------------\u001B[0m",
      "\u001B[0;31mDeviceError\u001B[0m                               Traceback (most recent call last)",
      "Cell \u001B[0;32mIn[9], line 4\u001B[0m\n\u001B[1;32m      1\u001B[0m chi \u001B[38;5;241m=\u001B[39m np\u001B[38;5;241m.\u001B[39mpi \u001B[38;5;241m/\u001B[39m \u001B[38;5;241m3\u001B[39m   \u001B[38;5;66;03m# Example value for chi\u001B[39;00m\n\u001B[1;32m      2\u001B[0m eta \u001B[38;5;241m=\u001B[39m np\u001B[38;5;241m.\u001B[39mpi \u001B[38;5;241m/\u001B[39m \u001B[38;5;241m4\u001B[39m   \u001B[38;5;66;03m# Example value for eta\u001B[39;00m\n\u001B[0;32m----> 4\u001B[0m state \u001B[38;5;241m=\u001B[39m \u001B[43mprepare_qutrit\u001B[49m\u001B[43m(\u001B[49m\u001B[43mchi\u001B[49m\u001B[43m,\u001B[49m\u001B[43m \u001B[49m\u001B[43meta\u001B[49m\u001B[43m)\u001B[49m \n\u001B[1;32m      5\u001B[0m \u001B[38;5;28mprint\u001B[39m(state)\n",
      "File \u001B[0;32m~/PycharmProjects/Hybrid_QML/.venv/lib/python3.10/site-packages/pennylane/qnode.py:1039\u001B[0m, in \u001B[0;36mQNode.__call__\u001B[0;34m(self, *args, **kwargs)\u001B[0m\n\u001B[1;32m   1034\u001B[0m         full_transform_program\u001B[38;5;241m.\u001B[39m_set_all_argnums(\n\u001B[1;32m   1035\u001B[0m             \u001B[38;5;28mself\u001B[39m, args, kwargs, argnums\n\u001B[1;32m   1036\u001B[0m         )  \u001B[38;5;66;03m# pylint: disable=protected-access\u001B[39;00m\n\u001B[1;32m   1038\u001B[0m \u001B[38;5;66;03m# pylint: disable=unexpected-keyword-arg\u001B[39;00m\n\u001B[0;32m-> 1039\u001B[0m res \u001B[38;5;241m=\u001B[39m \u001B[43mqml\u001B[49m\u001B[38;5;241;43m.\u001B[39;49m\u001B[43mexecute\u001B[49m\u001B[43m(\u001B[49m\n\u001B[1;32m   1040\u001B[0m \u001B[43m    \u001B[49m\u001B[43m(\u001B[49m\u001B[38;5;28;43mself\u001B[39;49m\u001B[38;5;241;43m.\u001B[39;49m\u001B[43m_tape\u001B[49m\u001B[43m,\u001B[49m\u001B[43m)\u001B[49m\u001B[43m,\u001B[49m\n\u001B[1;32m   1041\u001B[0m \u001B[43m    \u001B[49m\u001B[43mdevice\u001B[49m\u001B[38;5;241;43m=\u001B[39;49m\u001B[38;5;28;43mself\u001B[39;49m\u001B[38;5;241;43m.\u001B[39;49m\u001B[43mdevice\u001B[49m\u001B[43m,\u001B[49m\n\u001B[1;32m   1042\u001B[0m \u001B[43m    \u001B[49m\u001B[43mgradient_fn\u001B[49m\u001B[38;5;241;43m=\u001B[39;49m\u001B[38;5;28;43mself\u001B[39;49m\u001B[38;5;241;43m.\u001B[39;49m\u001B[43mgradient_fn\u001B[49m\u001B[43m,\u001B[49m\n\u001B[1;32m   1043\u001B[0m \u001B[43m    \u001B[49m\u001B[43minterface\u001B[49m\u001B[38;5;241;43m=\u001B[39;49m\u001B[38;5;28;43mself\u001B[39;49m\u001B[38;5;241;43m.\u001B[39;49m\u001B[43minterface\u001B[49m\u001B[43m,\u001B[49m\n\u001B[1;32m   1044\u001B[0m \u001B[43m    \u001B[49m\u001B[43mtransform_program\u001B[49m\u001B[38;5;241;43m=\u001B[39;49m\u001B[43mfull_transform_program\u001B[49m\u001B[43m,\u001B[49m\n\u001B[1;32m   1045\u001B[0m \u001B[43m    \u001B[49m\u001B[43mconfig\u001B[49m\u001B[38;5;241;43m=\u001B[39;49m\u001B[43mconfig\u001B[49m\u001B[43m,\u001B[49m\n\u001B[1;32m   1046\u001B[0m \u001B[43m    \u001B[49m\u001B[43mgradient_kwargs\u001B[49m\u001B[38;5;241;43m=\u001B[39;49m\u001B[38;5;28;43mself\u001B[39;49m\u001B[38;5;241;43m.\u001B[39;49m\u001B[43mgradient_kwargs\u001B[49m\u001B[43m,\u001B[49m\n\u001B[1;32m   1047\u001B[0m \u001B[43m    \u001B[49m\u001B[43moverride_shots\u001B[49m\u001B[38;5;241;43m=\u001B[39;49m\u001B[43moverride_shots\u001B[49m\u001B[43m,\u001B[49m\n\u001B[1;32m   1048\u001B[0m \u001B[43m    \u001B[49m\u001B[38;5;241;43m*\u001B[39;49m\u001B[38;5;241;43m*\u001B[39;49m\u001B[38;5;28;43mself\u001B[39;49m\u001B[38;5;241;43m.\u001B[39;49m\u001B[43mexecute_kwargs\u001B[49m\u001B[43m,\u001B[49m\n\u001B[1;32m   1049\u001B[0m \u001B[43m\u001B[49m\u001B[43m)\u001B[49m\n\u001B[1;32m   1051\u001B[0m res \u001B[38;5;241m=\u001B[39m res[\u001B[38;5;241m0\u001B[39m]\n\u001B[1;32m   1053\u001B[0m \u001B[38;5;66;03m# convert result to the interface in case the qfunc has no parameters\u001B[39;00m\n",
      "File \u001B[0;32m~/PycharmProjects/Hybrid_QML/.venv/lib/python3.10/site-packages/pennylane/interfaces/execution.py:648\u001B[0m, in \u001B[0;36mexecute\u001B[0;34m(tapes, device, gradient_fn, interface, transform_program, config, grad_on_execution, gradient_kwargs, cache, cachesize, max_diff, override_shots, expand_fn, max_expansion, device_batch_transform, device_vjp)\u001B[0m\n\u001B[1;32m    646\u001B[0m \u001B[38;5;66;03m# Exiting early if we do not need to deal with an interface boundary\u001B[39;00m\n\u001B[1;32m    647\u001B[0m \u001B[38;5;28;01mif\u001B[39;00m no_interface_boundary_required:\n\u001B[0;32m--> 648\u001B[0m     results \u001B[38;5;241m=\u001B[39m \u001B[43minner_execute\u001B[49m\u001B[43m(\u001B[49m\u001B[43mtapes\u001B[49m\u001B[43m)\u001B[49m\n\u001B[1;32m    649\u001B[0m     \u001B[38;5;28;01mreturn\u001B[39;00m post_processing(results)\n\u001B[1;32m    651\u001B[0m _grad_on_execution \u001B[38;5;241m=\u001B[39m \u001B[38;5;28;01mFalse\u001B[39;00m\n",
      "File \u001B[0;32m~/PycharmProjects/Hybrid_QML/.venv/lib/python3.10/site-packages/pennylane/interfaces/execution.py:261\u001B[0m, in \u001B[0;36m_make_inner_execute.<locals>.inner_execute\u001B[0;34m(tapes, **_)\u001B[0m\n\u001B[1;32m    259\u001B[0m \u001B[38;5;28;01mif\u001B[39;00m numpy_only:\n\u001B[1;32m    260\u001B[0m     tapes \u001B[38;5;241m=\u001B[39m \u001B[38;5;28mtuple\u001B[39m(qml\u001B[38;5;241m.\u001B[39mtransforms\u001B[38;5;241m.\u001B[39mconvert_to_numpy_parameters(t) \u001B[38;5;28;01mfor\u001B[39;00m t \u001B[38;5;129;01min\u001B[39;00m tapes)\n\u001B[0;32m--> 261\u001B[0m \u001B[38;5;28;01mreturn\u001B[39;00m \u001B[43mcached_device_execution\u001B[49m\u001B[43m(\u001B[49m\u001B[43mtapes\u001B[49m\u001B[43m)\u001B[49m\n",
      "File \u001B[0;32m~/PycharmProjects/Hybrid_QML/.venv/lib/python3.10/site-packages/pennylane/interfaces/execution.py:383\u001B[0m, in \u001B[0;36mcache_execute.<locals>.wrapper\u001B[0;34m(tapes, **kwargs)\u001B[0m\n\u001B[1;32m    378\u001B[0m         \u001B[38;5;28;01mreturn\u001B[39;00m (res, []) \u001B[38;5;28;01mif\u001B[39;00m return_tuple \u001B[38;5;28;01melse\u001B[39;00m res\n\u001B[1;32m    380\u001B[0m \u001B[38;5;28;01melse\u001B[39;00m:\n\u001B[1;32m    381\u001B[0m     \u001B[38;5;66;03m# execute all unique tapes that do not exist in the cache\u001B[39;00m\n\u001B[1;32m    382\u001B[0m     \u001B[38;5;66;03m# convert to list as new device interface returns a tuple\u001B[39;00m\n\u001B[0;32m--> 383\u001B[0m     res \u001B[38;5;241m=\u001B[39m \u001B[38;5;28mlist\u001B[39m(\u001B[43mfn\u001B[49m\u001B[43m(\u001B[49m\u001B[38;5;28;43mtuple\u001B[39;49m\u001B[43m(\u001B[49m\u001B[43mexecution_tapes\u001B[49m\u001B[38;5;241;43m.\u001B[39;49m\u001B[43mvalues\u001B[49m\u001B[43m(\u001B[49m\u001B[43m)\u001B[49m\u001B[43m)\u001B[49m\u001B[43m,\u001B[49m\u001B[43m \u001B[49m\u001B[38;5;241;43m*\u001B[39;49m\u001B[38;5;241;43m*\u001B[39;49m\u001B[43mkwargs\u001B[49m\u001B[43m)\u001B[49m)\n\u001B[1;32m    385\u001B[0m final_res \u001B[38;5;241m=\u001B[39m []\n\u001B[1;32m    387\u001B[0m \u001B[38;5;28;01mfor\u001B[39;00m i, tape \u001B[38;5;129;01min\u001B[39;00m \u001B[38;5;28menumerate\u001B[39m(tapes):\n",
      "File \u001B[0;32m/usr/lib/python3.10/contextlib.py:79\u001B[0m, in \u001B[0;36mContextDecorator.__call__.<locals>.inner\u001B[0;34m(*args, **kwds)\u001B[0m\n\u001B[1;32m     76\u001B[0m \u001B[38;5;129m@wraps\u001B[39m(func)\n\u001B[1;32m     77\u001B[0m \u001B[38;5;28;01mdef\u001B[39;00m \u001B[38;5;21minner\u001B[39m(\u001B[38;5;241m*\u001B[39margs, \u001B[38;5;241m*\u001B[39m\u001B[38;5;241m*\u001B[39mkwds):\n\u001B[1;32m     78\u001B[0m     \u001B[38;5;28;01mwith\u001B[39;00m \u001B[38;5;28mself\u001B[39m\u001B[38;5;241m.\u001B[39m_recreate_cm():\n\u001B[0;32m---> 79\u001B[0m         \u001B[38;5;28;01mreturn\u001B[39;00m \u001B[43mfunc\u001B[49m\u001B[43m(\u001B[49m\u001B[38;5;241;43m*\u001B[39;49m\u001B[43margs\u001B[49m\u001B[43m,\u001B[49m\u001B[43m \u001B[49m\u001B[38;5;241;43m*\u001B[39;49m\u001B[38;5;241;43m*\u001B[39;49m\u001B[43mkwds\u001B[49m\u001B[43m)\u001B[49m\n",
      "File \u001B[0;32m~/PycharmProjects/Hybrid_QML/.venv/lib/python3.10/site-packages/pennylane/_qubit_device.py:459\u001B[0m, in \u001B[0;36mQubitDevice.batch_execute\u001B[0;34m(self, circuits)\u001B[0m\n\u001B[1;32m    454\u001B[0m \u001B[38;5;28;01mfor\u001B[39;00m circuit \u001B[38;5;129;01min\u001B[39;00m circuits:\n\u001B[1;32m    455\u001B[0m     \u001B[38;5;66;03m# we need to reset the device here, else it will\u001B[39;00m\n\u001B[1;32m    456\u001B[0m     \u001B[38;5;66;03m# not start the next computation in the zero state\u001B[39;00m\n\u001B[1;32m    457\u001B[0m     \u001B[38;5;28mself\u001B[39m\u001B[38;5;241m.\u001B[39mreset()\n\u001B[0;32m--> 459\u001B[0m     res \u001B[38;5;241m=\u001B[39m \u001B[38;5;28;43mself\u001B[39;49m\u001B[38;5;241;43m.\u001B[39;49m\u001B[43mexecute\u001B[49m\u001B[43m(\u001B[49m\u001B[43mcircuit\u001B[49m\u001B[43m)\u001B[49m\n\u001B[1;32m    460\u001B[0m     results\u001B[38;5;241m.\u001B[39mappend(res)\n\u001B[1;32m    462\u001B[0m \u001B[38;5;28;01mif\u001B[39;00m \u001B[38;5;28mself\u001B[39m\u001B[38;5;241m.\u001B[39mtracker\u001B[38;5;241m.\u001B[39mactive:\n",
      "File \u001B[0;32m~/PycharmProjects/Hybrid_QML/.venv/lib/python3.10/site-packages/pennylane/_qubit_device.py:274\u001B[0m, in \u001B[0;36mQubitDevice.execute\u001B[0;34m(self, circuit, **kwargs)\u001B[0m\n\u001B[1;32m    264\u001B[0m \u001B[38;5;28;01mif\u001B[39;00m logger\u001B[38;5;241m.\u001B[39misEnabledFor(logging\u001B[38;5;241m.\u001B[39mDEBUG):\n\u001B[1;32m    265\u001B[0m     logger\u001B[38;5;241m.\u001B[39mdebug(\n\u001B[1;32m    266\u001B[0m         \u001B[38;5;124m\"\u001B[39m\u001B[38;5;124mEntry with args=(circuit=\u001B[39m\u001B[38;5;132;01m%s\u001B[39;00m\u001B[38;5;124m, kwargs=\u001B[39m\u001B[38;5;132;01m%s\u001B[39;00m\u001B[38;5;124m) called by=\u001B[39m\u001B[38;5;132;01m%s\u001B[39;00m\u001B[38;5;124m\"\u001B[39m,\n\u001B[1;32m    267\u001B[0m         circuit,\n\u001B[0;32m   (...)\u001B[0m\n\u001B[1;32m    271\u001B[0m         ),\n\u001B[1;32m    272\u001B[0m     )\n\u001B[0;32m--> 274\u001B[0m \u001B[38;5;28;43mself\u001B[39;49m\u001B[38;5;241;43m.\u001B[39;49m\u001B[43mcheck_validity\u001B[49m\u001B[43m(\u001B[49m\u001B[43mcircuit\u001B[49m\u001B[38;5;241;43m.\u001B[39;49m\u001B[43moperations\u001B[49m\u001B[43m,\u001B[49m\u001B[43m \u001B[49m\u001B[43mcircuit\u001B[49m\u001B[38;5;241;43m.\u001B[39;49m\u001B[43mobservables\u001B[49m\u001B[43m)\u001B[49m\n\u001B[1;32m    276\u001B[0m \u001B[38;5;66;03m# apply all circuit operations\u001B[39;00m\n\u001B[1;32m    277\u001B[0m \u001B[38;5;28mself\u001B[39m\u001B[38;5;241m.\u001B[39mapply(circuit\u001B[38;5;241m.\u001B[39moperations, rotations\u001B[38;5;241m=\u001B[39m\u001B[38;5;28mself\u001B[39m\u001B[38;5;241m.\u001B[39m_get_diagonalizing_gates(circuit), \u001B[38;5;241m*\u001B[39m\u001B[38;5;241m*\u001B[39mkwargs)\n",
      "File \u001B[0;32m~/PycharmProjects/Hybrid_QML/.venv/lib/python3.10/site-packages/pennylane/_device.py:984\u001B[0m, in \u001B[0;36mDevice.check_validity\u001B[0;34m(self, queue, observables)\u001B[0m\n\u001B[1;32m    981\u001B[0m         \u001B[38;5;28;01mraise\u001B[39;00m \u001B[38;5;167;01mValueError\u001B[39;00m(\u001B[38;5;124mf\u001B[39m\u001B[38;5;124m\"\u001B[39m\u001B[38;5;124mPostselection is not supported on the \u001B[39m\u001B[38;5;132;01m{\u001B[39;00m\u001B[38;5;28mself\u001B[39m\u001B[38;5;241m.\u001B[39mname\u001B[38;5;132;01m}\u001B[39;00m\u001B[38;5;124m device.\u001B[39m\u001B[38;5;124m\"\u001B[39m)\n\u001B[1;32m    983\u001B[0m     \u001B[38;5;28;01mif\u001B[39;00m \u001B[38;5;129;01mnot\u001B[39;00m \u001B[38;5;28mself\u001B[39m\u001B[38;5;241m.\u001B[39mstopping_condition(o):\n\u001B[0;32m--> 984\u001B[0m         \u001B[38;5;28;01mraise\u001B[39;00m DeviceError(\n\u001B[1;32m    985\u001B[0m             \u001B[38;5;124mf\u001B[39m\u001B[38;5;124m\"\u001B[39m\u001B[38;5;124mGate \u001B[39m\u001B[38;5;132;01m{\u001B[39;00moperation_name\u001B[38;5;132;01m}\u001B[39;00m\u001B[38;5;124m not supported on device \u001B[39m\u001B[38;5;132;01m{\u001B[39;00m\u001B[38;5;28mself\u001B[39m\u001B[38;5;241m.\u001B[39mshort_name\u001B[38;5;132;01m}\u001B[39;00m\u001B[38;5;124m\"\u001B[39m\n\u001B[1;32m    986\u001B[0m         )\n\u001B[1;32m    988\u001B[0m \u001B[38;5;28;01mfor\u001B[39;00m o \u001B[38;5;129;01min\u001B[39;00m observables:\n\u001B[1;32m    989\u001B[0m     \u001B[38;5;28;01mif\u001B[39;00m \u001B[38;5;28misinstance\u001B[39m(o, qml\u001B[38;5;241m.\u001B[39mmeasurements\u001B[38;5;241m.\u001B[39mMeasurementProcess) \u001B[38;5;129;01mand\u001B[39;00m o\u001B[38;5;241m.\u001B[39mobs \u001B[38;5;129;01mis\u001B[39;00m \u001B[38;5;129;01mnot\u001B[39;00m \u001B[38;5;28;01mNone\u001B[39;00m:\n",
      "\u001B[0;31mDeviceError\u001B[0m: Gate RY not supported on device default.qutrit"
     ]
    }
   ],
   "source": [
    "chi = np.pi / 3   # Example value for chi\n",
    "eta = np.pi / 4   # Example value for eta\n",
    "\n",
    "state = prepare_qutrit(chi, eta) \n",
    "print(state)\n"
   ]
  },
  {
   "cell_type": "code",
   "execution_count": 25,
   "id": "65c36d8a5c341561",
   "metadata": {
    "collapsed": false
   },
   "outputs": [
    {
     "name": "stdout",
     "output_type": "stream",
     "text": [
      "Running test case 0 with input '[0.838283, [0.6283189, 1.884956, 3.141593, 4.398230, 5.654867]]'...\n"
     ]
    },
    {
     "ename": "AssertionError",
     "evalue": "Not the correct sum!",
     "output_type": "error",
     "traceback": [
      "\u001B[0;31m---------------------------------------------------------------------------\u001B[0m",
      "\u001B[0;31mAssertionError\u001B[0m                            Traceback (most recent call last)",
      "Cell \u001B[0;32mIn[25], line 83\u001B[0m\n\u001B[1;32m     80\u001B[0m     \u001B[38;5;28mprint\u001B[39m(\u001B[38;5;124mf\u001B[39m\u001B[38;5;124m\"\u001B[39m\u001B[38;5;124mRuntime Error. \u001B[39m\u001B[38;5;132;01m{\u001B[39;00mexc\u001B[38;5;132;01m}\u001B[39;00m\u001B[38;5;124m\"\u001B[39m)\n\u001B[1;32m     82\u001B[0m \u001B[38;5;28;01melse\u001B[39;00m:\n\u001B[0;32m---> 83\u001B[0m     \u001B[38;5;28;01mif\u001B[39;00m message \u001B[38;5;241m:=\u001B[39m \u001B[43mcheck\u001B[49m\u001B[43m(\u001B[49m\u001B[43moutput\u001B[49m\u001B[43m,\u001B[49m\u001B[43m \u001B[49m\u001B[43mexpected_output\u001B[49m\u001B[43m)\u001B[49m:\n\u001B[1;32m     84\u001B[0m         \u001B[38;5;28mprint\u001B[39m(\u001B[38;5;124mf\u001B[39m\u001B[38;5;124m\"\u001B[39m\u001B[38;5;124mWrong Answer. Have: \u001B[39m\u001B[38;5;124m'\u001B[39m\u001B[38;5;132;01m{\u001B[39;00moutput\u001B[38;5;132;01m}\u001B[39;00m\u001B[38;5;124m'\u001B[39m\u001B[38;5;124m. Want: \u001B[39m\u001B[38;5;124m'\u001B[39m\u001B[38;5;132;01m{\u001B[39;00mexpected_output\u001B[38;5;132;01m}\u001B[39;00m\u001B[38;5;124m'\u001B[39m\u001B[38;5;124m.\u001B[39m\u001B[38;5;124m\"\u001B[39m)\n\u001B[1;32m     86\u001B[0m     \u001B[38;5;28;01melse\u001B[39;00m:\n",
      "Cell \u001B[0;32mIn[25], line 63\u001B[0m, in \u001B[0;36mcheck\u001B[0;34m(solution_output, expected_output)\u001B[0m\n\u001B[1;32m     61\u001B[0m solution_output \u001B[38;5;241m=\u001B[39m json\u001B[38;5;241m.\u001B[39mloads(solution_output)\n\u001B[1;32m     62\u001B[0m expected_output \u001B[38;5;241m=\u001B[39m json\u001B[38;5;241m.\u001B[39mloads(expected_output)\n\u001B[0;32m---> 63\u001B[0m \u001B[38;5;28;01massert\u001B[39;00m np\u001B[38;5;241m.\u001B[39mallclose(solution_output,expected_output, atol \u001B[38;5;241m=\u001B[39m \u001B[38;5;241m1e-4\u001B[39m), \u001B[38;5;124m\"\u001B[39m\u001B[38;5;124mNot the correct sum!\u001B[39m\u001B[38;5;124m\"\u001B[39m\n",
      "\u001B[0;31mAssertionError\u001B[0m: Not the correct sum!"
     ]
    }
   ],
   "source": [
    "import json\n",
    "import pennylane as qml\n",
    "import pennylane.numpy as np\n",
    "\n",
    "dev = qml.device('default.qutrit', wires = 1)\n",
    "\n",
    "@qml.qnode(dev)\n",
    "def prepare_qutrit(chi, eta):\n",
    "    \"\"\"\n",
    "    This QNode prepares the state |phi> as defined in the statement and\n",
    "    computes the measurement probabilities in the qutrit computational basis.\n",
    "    \n",
    "    Args: \n",
    "        - chi (float): The angle chi parametrizing the state |phi>.\n",
    "        - eta (float): The angle eta parametrizing the state |eta>.\n",
    "    Returns:\n",
    "        - (np.array(float)): The measurement probabilities in the computational\n",
    "        basis after preparing the state.\n",
    "    \n",
    "    \"\"\"\n",
    "    qml.QutritUnitary(np.array([[np.cos(chi) * np.cos(eta), np.cos(chi) * np.sin(eta), -np.sin(chi)],\n",
    "                                [-np.sin(eta), np.cos(eta), 0],\n",
    "                                [np.sin(chi) * np.cos(eta), np.sin(chi) * np.sin(eta), np.cos(chi)]]), wires=0)\n",
    "    # Put your code here #\n",
    "    \n",
    "\n",
    "    \n",
    "    return qml.probs(wires=0)\n",
    "\n",
    "\n",
    "def evaluate_sum(chi, eta_array):\n",
    "    \"\"\"\n",
    "    This QNode computes the sum S as in the statement.\n",
    "    \n",
    "    Args: \n",
    "        chi (float): The angle chi parametrizing the states |phi_i>.\n",
    "        eta_array (float): Contains the angles eta_i parametrizing the state |eta_i>.\n",
    "    Returns:\n",
    "        (np.array(float)): The sum S as defined in the statement.\n",
    "        \n",
    "    \"\"\"\n",
    "\n",
    "\n",
    "    # Put your code here\n",
    "    sum_S = 0\n",
    "    \n",
    "    for eta in eta_array:\n",
    "        probs = prepare_qutrit(chi, eta)\n",
    "        sum_S += np.sum(probs * np.array([1, 2, 3]))  # Assuming a specific sum calculation\n",
    "    return sum_S\n",
    "\n",
    "# These functions are responsible for testing the solution.\n",
    "\n",
    "\n",
    "def run(test_case_input: str) -> str:\n",
    "    ins = json.loads(test_case_input)\n",
    "    outs = evaluate_sum(*ins)\n",
    "    \n",
    "    return str(outs)\n",
    "\n",
    "\n",
    "def check(solution_output: str, expected_output: str) -> None:\n",
    "    solution_output = json.loads(solution_output)\n",
    "    expected_output = json.loads(expected_output)\n",
    "    assert np.allclose(solution_output,expected_output, atol = 1e-4), \"Not the correct sum!\"\n",
    "\n",
    "\n",
    "# These are the public test cases\n",
    "test_cases = [\n",
    "    ('[0.838283, [0.6283189, 1.884956, 3.141593, 4.398230, 5.654867]]', '2.236069'),\n",
    "    ('[0.4, [1.047198, 2.094395, 3.141593, 4.18879, 5.235988]]', '4.241767')\n",
    "]\n",
    "\n",
    "# This will run the public test cases locally\n",
    "for i, (input_, expected_output) in enumerate(test_cases):\n",
    "    print(f\"Running test case {i} with input '{input_}'...\")\n",
    "\n",
    "    try:\n",
    "        output = run(input_)\n",
    "\n",
    "    except Exception as exc:\n",
    "        print(f\"Runtime Error. {exc}\")\n",
    "\n",
    "    else:\n",
    "        if message := check(output, expected_output):\n",
    "            print(f\"Wrong Answer. Have: '{output}'. Want: '{expected_output}'.\")\n",
    "\n",
    "        else:\n",
    "            print(\"Correct!\")"
   ]
  },
  {
   "cell_type": "code",
   "execution_count": null,
   "id": "14d47448-7cb0-416d-83af-11e13f3a829b",
   "metadata": {},
   "outputs": [],
   "source": []
  }
 ],
 "metadata": {
  "kernelspec": {
   "display_name": "Python 3 (ipykernel)",
   "language": "python",
   "name": "python3"
  },
  "language_info": {
   "codemirror_mode": {
    "name": "ipython",
    "version": 3
   },
   "file_extension": ".py",
   "mimetype": "text/x-python",
   "name": "python",
   "nbconvert_exporter": "python",
   "pygments_lexer": "ipython3",
   "version": "3.10.12"
  }
 },
 "nbformat": 4,
 "nbformat_minor": 5
}
