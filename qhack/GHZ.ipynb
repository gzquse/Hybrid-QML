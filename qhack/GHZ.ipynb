{
 "cells": [
  {
   "cell_type": "code",
   "execution_count": 1,
   "id": "initial_id",
   "metadata": {
    "collapsed": true,
    "ExecuteTime": {
     "end_time": "2024-02-18T02:42:25.228718114Z",
     "start_time": "2024-02-18T02:42:23.910608745Z"
    }
   },
   "outputs": [
    {
     "name": "stdout",
     "output_type": "stream",
     "text": [
      "state(wires=[])\n"
     ]
    }
   ],
   "source": [
    "import json\n",
    "import pennylane as qml\n",
    "import pennylane.numpy as np\n",
    "\n",
    "\n",
    "\n",
    "n_qubits = 3\n",
    "noise_param = 0.1\n",
    "dev = qml.device('default.mixed', wires=n_qubits)\n",
    "GHZ_QNode = qml.QNode(GHZ_circuit,dev)\n",
    "result = GHZ_circuit(noise_param,n_qubits)\n",
    "print(result)"
   ]
  },
  {
   "cell_type": "code",
   "outputs": [
    {
     "name": "stdout",
     "output_type": "stream",
     "text": [
      "Running test case 0 with input '[0.05, 3]'...\n",
      "Runtime Error. autoray couldn't find function 'astype' for backend 'autograd'.\n",
      "Running test case 1 with input '[0.01, 5]'...\n",
      "Runtime Error. autoray couldn't find function 'astype' for backend 'autograd'.\n"
     ]
    }
   ],
   "source": [
    "import json\n",
    "import pennylane as qml\n",
    "import pennylane.numpy as np\n",
    "\n",
    "# Write any helper functions you need here\n",
    "\n",
    "\n",
    "# Write any helper functions you need here\n",
    "def myhadamard(wires):\n",
    "    qml.RX(np.pi, wires = wires)\n",
    "    qml.RY(np.pi/2, wires = wires)\n",
    "\n",
    "def mycnot(wires):\n",
    "    myhadamard(wires = wires[1])\n",
    "    qml.CZ(wires = wires)\n",
    "    myhadamard(wires = wires[1])\n",
    "\n",
    "\n",
    "def GHZ_circuit(noise_param,n_qubits):\n",
    "\n",
    "    \"\"\"\n",
    "    Quantum circuit that prepares an imperfect GHZ state using gates native to a neutral atom device.\n",
    "\n",
    "    Args:\n",
    "        - noise_param (float): Parameter that quantifies the noise in the CZ gate, modelled as a \n",
    "        depolarizing channel on the target qubit. noise_param is the parameter of the depolarizing channel\n",
    "        following the PennyLane convention.\n",
    "        - n_qubits (int): The number of qubits in the prepared GHZ state.\n",
    "    Returns:\n",
    "        - (np.tensor): A density matrix, as returned by `qml.state`, representing the imperfect GHZ state.\n",
    "    \n",
    "    \"\"\"\n",
    "    # Put your code here\n",
    "    myhadamard(wires = 0)\n",
    "    for i in range(n_qubits-1):\n",
    "        mycnot(wires = [i, i+1])\n",
    "        qml.DepolarizingChannel(noise_param, wires = i+1)\n",
    "    return qml.state()\n",
    "\n",
    "\n",
    "def GHZ_fidelity(noise_param, n_qubits):\n",
    "\n",
    "    \"\"\"\n",
    "    Calculates the fidelity between the imperfect GHZ state returned by GHZ_circuit and the ideal GHZ state.\n",
    "\n",
    "    Args:\n",
    "        - noise_param (float): Parameter that quantifies the noise in the CZ gate, modelled as a \n",
    "        depolarizing channel on the target qubit. noise_param is the parameter of the depolarizing channel\n",
    "        following the PennyLane convention.\n",
    "        - n_qubits (int): The number of qubits in the GHZ state.\n",
    "    Returns:\n",
    "        - (float): The fidelity between the noisy and ideal GHZ states.\n",
    "    \"\"\"\n",
    "    \n",
    "    dev = qml.device('default.mixed', wires=n_qubits)\n",
    "    \n",
    "    GHZ_QNode = qml.QNode(GHZ_circuit,dev)\n",
    "    \n",
    "    # Use GHZ_QNode to find the fidelity between\n",
    "    # the noisy GHZ state and an ideal GHZ state\n",
    "    noisy = GHZ_circuit(noise_param, n_qubits)\n",
    "    ideal = GHZ_circuit(0., n_qubits)\n",
    "    return qml.math.fidelity(noisy, ideal)\n",
    "\n",
    "\n",
    "# These functions are responsible for testing the solution.\n",
    "\n",
    "def run(test_case_input: str) -> str:\n",
    "    ins = json.loads(test_case_input)\n",
    "    output = GHZ_fidelity(*ins)\n",
    "\n",
    "    return str(output)\n",
    "\n",
    "def check(solution_output: str, expected_output: str) -> None:\n",
    "    solution_output = json.loads(solution_output)\n",
    "    expected_output = json.loads(expected_output)\n",
    "    \n",
    "    dev = qml.device('default.mixed', wires=4)\n",
    "    qnode = qml.QNode(GHZ_circuit, dev)\n",
    "    u = qnode(0.05,3)\n",
    "    \n",
    "    for op in qnode.tape.operations:\n",
    "        assert (isinstance(op, qml.RX) or isinstance(op, qml.RY) or isinstance(op, qml.CZ) or isinstance(op, qml.DepolarizingChannel)), \"You are using forbidden gates!\"\n",
    "\n",
    "    assert np.isclose(solution_output, expected_output, rtol = 1e-4)\n",
    "\n",
    "\n",
    "# These are the public test cases\n",
    "test_cases = [\n",
    "    ('[0.05, 3]', '0.9027779255467782'),\n",
    "    ('[0.01, 5]', '0.9606614879634601')\n",
    "]\n",
    "\n",
    "# This will run the public test cases locally\n",
    "for i, (input_, expected_output) in enumerate(test_cases):\n",
    "    print(f\"Running test case {i} with input '{input_}'...\")\n",
    "\n",
    "    try:\n",
    "        output = run(input_)\n",
    "\n",
    "    except Exception as exc:\n",
    "        print(f\"Runtime Error. {exc}\")\n",
    "\n",
    "    else:\n",
    "        if message := check(output, expected_output):\n",
    "            print(f\"Wrong Answer. Have: '{output}'. Want: '{expected_output}'.\")\n",
    "\n",
    "        else:\n",
    "            print(\"Correct!\")"
   ],
   "metadata": {
    "collapsed": false,
    "ExecuteTime": {
     "end_time": "2024-02-18T02:43:27.070731719Z",
     "start_time": "2024-02-18T02:43:27.022567589Z"
    }
   },
   "id": "3fde022e0cc615ff",
   "execution_count": 2
  },
  {
   "cell_type": "code",
   "outputs": [],
   "source": [],
   "metadata": {
    "collapsed": false
   },
   "id": "14e09da079be203d"
  }
 ],
 "metadata": {
  "kernelspec": {
   "display_name": "Python 3",
   "language": "python",
   "name": "python3"
  },
  "language_info": {
   "codemirror_mode": {
    "name": "ipython",
    "version": 2
   },
   "file_extension": ".py",
   "mimetype": "text/x-python",
   "name": "python",
   "nbconvert_exporter": "python",
   "pygments_lexer": "ipython2",
   "version": "2.7.6"
  }
 },
 "nbformat": 4,
 "nbformat_minor": 5
}
