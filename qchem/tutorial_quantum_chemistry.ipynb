{
 "cells": [
  {
   "cell_type": "code",
   "execution_count": 1,
   "metadata": {
    "collapsed": false,
    "ExecuteTime": {
     "end_time": "2024-02-12T18:48:45.963865257Z",
     "start_time": "2024-02-12T18:48:45.571507372Z"
    }
   },
   "outputs": [],
   "source": [
    "# This cell is added by sphinx-gallery\n",
    "# It can be customized to whatever you like\n",
    "%matplotlib inline"
   ]
  },
  {
   "cell_type": "markdown",
   "metadata": {},
   "source": [
    "Building molecular Hamiltonians\n",
    "===============================\n",
    "\n",
    "::: {.meta}\n",
    ":property=\\\"og:description\\\": Learn how to build electronic Hamiltonians\n",
    "of molecules.\n",
    "\n",
    ":property=\\\"og:image\\\":\n",
    "<https://pennylane.ai/qml/_static/demonstration_assets//water_structure.png>\n",
    ":::\n",
    "\n",
    "::: {.related}\n",
    "tutorial\\_vqe A brief overview of VQE\n",
    ":::\n",
    "\n",
    "*Author: Alain Delgado --- Posted: 02 August 2020. Last updated: 29\n",
    "August 2023.*\n",
    "\n",
    "::: {.note}\n",
    "::: {.title}\n",
    "Note\n",
    ":::\n",
    "\n",
    "A wide variety of molecular data, including Hamiltonians, is available\n",
    "on the [PennyLane Datasets service](https://pennylane.ai/datasets).\n",
    ":::\n",
    "\n",
    "The ultimate goal of computational quantum chemistry is to unravel the\n",
    "quantum effects that determine the structure and properties of\n",
    "molecules. Reaching this goal is challenging since the characteristic\n",
    "energies associated with these effects, e.g., the electronic correlation\n",
    "energy, are typically a tiny fraction of the total energy of the\n",
    "molecule.\n",
    "\n",
    "Accurate molecular properties can be computed from the wave function\n",
    "describing the interacting electrons in a molecule. The **electronic**\n",
    "wave function $\\Psi(r)$ satisfies the [Schrödinger\n",
    "equation](https://en.wikipedia.org/wiki/Schr%C3%B6dinger_equation)\n",
    "\n",
    "$$H_e \\Psi(r) = E \\Psi(r),$$\n",
    "\n",
    "where $H_e$ and $E$ denote the electronic Hamiltonian and the total\n",
    "energy of the molecule, respectively. When solving the latter equation,\n",
    "the nuclei of the molecule can be treated as point particles whose\n",
    "coordinates are fixed. In this approximation, both the total energy and\n",
    "the electronic Hamiltonian depend parametrically on the nuclear\n",
    "coordinates.\n",
    "\n",
    "In this tutorial, you will learn how to use PennyLane to build a\n",
    "representation of the electronic Hamiltonian $H_e$ that can be used to\n",
    "perform **quantum** simulations of molecules. First, we show how to\n",
    "define the structure of the molecule in terms of the symbols and the\n",
    "coordinates of the atoms. Next, we describe how to solve the\n",
    "[Hartree-Fock\n",
    "equations](https://en.wikipedia.org/wiki/Hartree%E2%80%93Fock_method)\n",
    "for the target molecule. Finally, we discuss some advanced features that\n",
    "can be used to simulate more complicated systems.\n",
    "\n",
    "Let\\'s get started!\n",
    "\n",
    "Defining the molecular structure\n",
    "--------------------------------\n",
    "\n",
    "In this example we construct the electronic Hamiltonian of the water\n",
    "molecule.\n",
    "\n",
    "![](../_static/demonstration_assets/quantum_chemistry/water_structure.png){.align-center\n",
    "width=\"30.0%\"}\n",
    "\n",
    "The structure of a molecule is defined by the symbols and the nuclear\n",
    "coordinates of its constituent atoms. It can be specified using\n",
    "different [chemical file\n",
    "formats](https://en.wikipedia.org/wiki/Chemical_file_format). Within\n",
    "PennyLane, the molecular structure is defined by providing a list with\n",
    "the atomic symbols and a one-dimensional array with the nuclear\n",
    "coordinates in [atomic\n",
    "units](https://en.wikipedia.org/wiki/Hartree_atomic_units).\n"
   ]
  },
  {
   "cell_type": "code",
   "execution_count": 2,
   "metadata": {
    "collapsed": false,
    "ExecuteTime": {
     "end_time": "2024-02-12T18:48:46.868602288Z",
     "start_time": "2024-02-12T18:48:46.862324946Z"
    }
   },
   "outputs": [],
   "source": [
    "import numpy as np\n",
    "\n",
    "symbols = [\"H\", \"O\", \"H\"]\n",
    "coordinates = np.array([-0.0399, -0.0038, 0.0, 1.5780, 0.8540, 0.0, 2.7909, -0.5159, 0.0])"
   ]
  },
  {
   "cell_type": "markdown",
   "metadata": {},
   "source": [
    "The `~.pennylane.qchem.read_structure`{.interpreted-text role=\"func\"}\n",
    "function can also be used to read the molecular geometry from an\n",
    "external file.\n"
   ]
  },
  {
   "cell_type": "code",
   "execution_count": null,
   "metadata": {
    "collapsed": false
   },
   "outputs": [],
   "source": [
    "from pennylane import qchem\n",
    "\n",
    "symbols, coordinates = qchem.read_structure(\"h2o.xyz\")"
   ]
  },
  {
   "cell_type": "markdown",
   "metadata": {},
   "source": [
    "The xyz format is supported.\n",
    "\n",
    "Solving the Hartree-Fock equations\n",
    "==================================\n",
    "\n",
    "The molecule\\'s electronic Hamiltonian is commonly represented using the\n",
    "[second-quantization](https://en.wikipedia.org/wiki/Second_quantization)\n",
    "formalism, which we will explore in more detail in the next section. To\n",
    "that aim, a basis of **single-particle** states needs to be chosen. In\n",
    "quantum chemistry these states are the [molecular\n",
    "orbitals](https://en.wikipedia.org/wiki/Molecular_orbital) which\n",
    "describe the wave function of a single electron in the molecule.\n",
    "\n",
    "Molecular orbitals are typically represented as a linear combination of\n",
    "**atomic orbitals**. The expansion coefficients in the atomic basis are\n",
    "calculated using the [Hartree-Fock (HF)\n",
    "method](https://en.wikipedia.org/wiki/Hartree%E2%80%93Fock_method). In\n",
    "the HF approximation, each electron in the molecule is treated as an\n",
    "**independent** particle that moves under the influence of the Coulomb\n",
    "potential due to the nuclei, and a mean field generated by all other\n",
    "electrons. The optimized coefficients are precisely what we need to\n",
    "build the second-quantized Hamiltonian.\n",
    "\n",
    "PennyLane provides a differentiable Hartree-Fock solver and the\n",
    "functionality to construct a fully-differentiable molecular Hamiltonian.\n",
    "\n",
    "Building the Hamiltonian\n",
    "========================\n",
    "\n",
    "In the second quantization formalism, the electronic wave function of\n",
    "the molecule is represented in the occupation number basis. For $M$\n",
    "*spin* molecular orbitals, the elements of this basis are labelled as\n",
    "$\\vert n_0, n_1, \\dots, n_{M-1} \\rangle$, where $n_i = 0,1$ indicates\n",
    "the occupation of each orbital. In this representation, the electronic\n",
    "Hamiltonian is given by\n",
    "\n",
    "$$H = \\sum_{p,q} h_{pq} c_p^\\dagger c_q +\n",
    "\\frac{1}{2} \\sum_{p,q,r,s} h_{pqrs} c_p^\\dagger c_q^\\dagger c_r c_s,$$\n",
    "\n",
    "where $c^\\dagger$ and $c$ are the electron creation and annihilation\n",
    "operators, respectively, and the coefficients $h_{pq}$ and $h_{pqrs}$\n",
    "denote the one- and two-electron Coulomb integrals evaluated using the\n",
    "Hartree-Fock orbitals.\n",
    "\n",
    "We can use the states of $M$ qubits to encode any element of the\n",
    "occupation number basis\n",
    "\n",
    "$$\\vert n_0, n_1, \\dots, n_{M-1} \\rangle \\rightarrow \\vert q_0 q_1 \\cdots q_{M-1} \\rangle.$$\n",
    "\n",
    "This implies that we need to map the fermionic operators onto operators\n",
    "that act on qubits. This can be done by using the\n",
    "[Jordan-Wigner](https://en.wikipedia.org/wiki/Jordan-Wigner_transformation)\n",
    "transformation which allows us to decompose the fermionic Hamiltonian\n",
    "into a linear combination of the tensor product of Pauli operators\n",
    "\n",
    "$$H = \\sum_j C_j \\otimes_i \\sigma_i^{(j)},$$\n",
    "\n",
    "where $C_j$ is a scalar coefficient and $\\sigma_i$ represents an element\n",
    "of the Pauli group $\\{ I, X, Y, Z \\}$.\n",
    "\n",
    "In PennyLane we have the\n",
    "`~.pennylane.qchem.molecular_hamiltonian`{.interpreted-text role=\"func\"}\n",
    "function which encapsulates all the steps explained above. It simplifies\n",
    "the process of building the electronic Hamiltonian to a single line of\n",
    "code. We just need to input the symbols and the nuclear coordinates of\n",
    "the molecule, as shown below:\n"
   ]
  },
  {
   "cell_type": "code",
   "execution_count": null,
   "metadata": {
    "collapsed": false
   },
   "outputs": [],
   "source": [
    "H, qubits = qchem.molecular_hamiltonian(symbols, coordinates)\n",
    "print(\"Number of qubits: {:}\".format(qubits))\n",
    "print(\"Qubit Hamiltonian\")\n",
    "print(H)"
   ]
  },
  {
   "cell_type": "markdown",
   "metadata": {},
   "source": [
    "Advanced features\n",
    "=================\n",
    "\n",
    "The `~.pennylane.qchem.molecular_hamiltonian`{.interpreted-text\n",
    "role=\"func\"} function allows us to define additional keyword arguments\n",
    "to solve the Hartree-Fock equations of more complicated systems. The net\n",
    "charge of the molecule may be specified to simulate positively or\n",
    "negatively charged molecules. For a neutral system we choose\n"
   ]
  },
  {
   "cell_type": "code",
   "execution_count": null,
   "metadata": {
    "collapsed": false
   },
   "outputs": [],
   "source": [
    "charge = 0"
   ]
  },
  {
   "cell_type": "markdown",
   "metadata": {},
   "source": [
    "We can also specify the [spin\n",
    "multiplicity](https://en.wikipedia.org/wiki/Multiplicity_(chemistry)).\n",
    "For the water molecule, which contains ten electrons, the [Slater\n",
    "determinant](https://en.wikipedia.org/wiki/Slater_determinant) resulting\n",
    "from occupying the five lowest-energy orbitals with two *paired*\n",
    "electrons per orbital has spin multiplicity one. Alternatively, if we\n",
    "define an occupation where the first four orbitals are doubly occupied\n",
    "and the next two are singly occupied by *unpaired* electrons, the HF\n",
    "state will have multiplicity three.\n",
    "\n",
    "| \n",
    "\n",
    "![](../_static/demonstration_assets/quantum_chemistry/hf_references.png){.align-center\n",
    "width=\"50.0%\"}\n",
    "\n",
    "| \n",
    "\n",
    "For the neutral water molecule we have,\n"
   ]
  },
  {
   "cell_type": "code",
   "execution_count": null,
   "metadata": {
    "collapsed": false
   },
   "outputs": [],
   "source": [
    "multiplicity = 1"
   ]
  },
  {
   "cell_type": "markdown",
   "metadata": {},
   "source": [
    "As mentioned above, molecular orbitals are represented as a linear\n",
    "combination of atomic orbitals which are typically modeled as\n",
    "[Gaussian-type\n",
    "orbitals](https://en.wikipedia.org/wiki/Gaussian_orbital). We can\n",
    "specify different types of [Gaussian atomic\n",
    "bases](https://www.basissetexchange.org/). In this example we choose a\n",
    "[minimal basis\n",
    "set](https://en.wikipedia.org/wiki/Basis_set_(chemistry)#Minimal_basis_sets).\n"
   ]
  },
  {
   "cell_type": "code",
   "execution_count": null,
   "metadata": {
    "collapsed": false
   },
   "outputs": [],
   "source": [
    "basis_set = \"sto-3g\""
   ]
  },
  {
   "cell_type": "markdown",
   "metadata": {},
   "source": [
    "PennyLane also allows us to define an active space to perform quantum\n",
    "simulations with a reduced number of qubits. This is done by classifying\n",
    "the molecular orbitals as core, active, and external orbitals:\n",
    "\n",
    "-   Core orbitals are always occupied by two electrons.\n",
    "-   Active orbitals can be occupied by zero, one, or two electrons.\n",
    "-   The external orbitals are never occupied.\n",
    "\n",
    "Within this approximation, a certain number of **active electrons** are\n",
    "allowed to populate a finite set of **active orbitals**.\n",
    "\n",
    "![](../_static/demonstration_assets/quantum_chemistry/sketch_active_space.png){.align-center\n",
    "width=\"40.0%\"}\n",
    "\n",
    "::: {.note}\n",
    "::: {.title}\n",
    "Note\n",
    ":::\n",
    "\n",
    "The number of active **spin-orbitals** determines the **number of\n",
    "qubits** required to perform the quantum simulations.\n",
    ":::\n",
    "\n",
    "For the water molecule in a minimal basis set we have a total of ten\n",
    "electrons and seven molecular orbitals. In this example we define an\n",
    "symmetric active space with four electrons and four active orbitals\n",
    "using the `~.pennylane.qchem.active_space`{.interpreted-text\n",
    "role=\"func\"} function:\n"
   ]
  },
  {
   "cell_type": "code",
   "execution_count": null,
   "metadata": {
    "collapsed": false
   },
   "outputs": [],
   "source": [
    "electrons = 10\n",
    "orbitals = 7\n",
    "core, active = qchem.active_space(electrons, orbitals, active_electrons=4, active_orbitals=4)"
   ]
  },
  {
   "cell_type": "markdown",
   "metadata": {},
   "source": [
    "Viewing the results:\n"
   ]
  },
  {
   "cell_type": "code",
   "execution_count": null,
   "metadata": {
    "collapsed": false
   },
   "outputs": [],
   "source": [
    "print(\"List of core orbitals: {:}\".format(core))\n",
    "print(\"List of active orbitals: {:}\".format(active))\n",
    "print(\"Number of qubits: {:}\".format(2 * len(active)))"
   ]
  },
  {
   "cell_type": "markdown",
   "metadata": {},
   "source": [
    "Finally, we use the\n",
    "`~.pennylane.qchem.molecular_hamiltonian`{.interpreted-text role=\"func\"}\n",
    "function to build the resulting Hamiltonian of the water molecule:\n"
   ]
  },
  {
   "cell_type": "code",
   "execution_count": null,
   "metadata": {
    "collapsed": false
   },
   "outputs": [],
   "source": [
    "H, qubits = qchem.molecular_hamiltonian(\n",
    "    symbols,\n",
    "    coordinates,\n",
    "    charge=charge,\n",
    "    mult=multiplicity,\n",
    "    basis=basis_set,\n",
    "    active_electrons=4,\n",
    "    active_orbitals=4,\n",
    ")\n",
    "\n",
    "print(\"Number of qubits required to perform quantum simulations: {:}\".format(qubits))\n",
    "print(\"Hamiltonian of the water molecule\")\n",
    "print(H)"
   ]
  },
  {
   "cell_type": "markdown",
   "metadata": {},
   "source": [
    "In this case, since we have truncated the basis of molecular orbitals,\n",
    "the resulting observable is an approximation of the Hamiltonian\n",
    "generated in the section `hamiltonian`{.interpreted-text role=\"ref\"}.\n",
    "\n",
    "OpenFermion-PySCF backend\n",
    "=========================\n",
    "\n",
    "The `~.pennylane.qchem.molecular_hamiltonian`{.interpreted-text\n",
    "role=\"func\"} function can also be used to construct the molecular\n",
    "Hamiltonian with a non-differentiable backend that uses the\n",
    "[OpenFermion-PySCF](https://github.com/quantumlib/OpenFermion-PySCF)\n",
    "plugin interfaced with the electronic structure package\n",
    "[PySCF](https://github.com/sunqm/pyscf). This backend can be selected by\n",
    "setting `method='pyscf'` in\n",
    "`~.pennylane.qchem.molecular_hamiltonian`{.interpreted-text\n",
    "role=\"func\"}:\n"
   ]
  },
  {
   "cell_type": "code",
   "execution_count": null,
   "metadata": {
    "collapsed": false
   },
   "outputs": [],
   "source": [
    "H, qubits = qchem.molecular_hamiltonian(symbols, coordinates, method=\"pyscf\")\n",
    "print(H)"
   ]
  },
  {
   "cell_type": "markdown",
   "metadata": {},
   "source": [
    "This backend requires the `OpenFermion-PySCF` plugin to be installed by\n",
    "the user with\n",
    "\n",
    "``` {.bash}\n",
    "pip install openfermionpyscf\n",
    "```\n",
    "\n",
    "Additionally, if you have built your electronic Hamiltonian\n",
    "independently using\n",
    "[OpenFermion](https://github.com/quantumlib/OpenFermion) tools, it can\n",
    "be readily converted to a PennyLane observable using the\n",
    "`~.pennylane.qchem.import_operator`{.interpreted-text role=\"func\"}\n",
    "function.\n",
    "\n",
    "You have completed the tutorial! Now, select your favorite molecule and\n",
    "build its electronic Hamiltonian. To see how simple it is to implement\n",
    "the VQE algorithm to compute the ground-state energy of your molecule\n",
    "using PennyLane, take a look at the tutorial\n",
    "`tutorial_vqe`{.interpreted-text role=\"doc\"}.\n",
    "\n",
    "References\n",
    "==========\n",
    "\n",
    "About the author\n",
    "================\n"
   ]
  }
 ],
 "metadata": {
  "kernelspec": {
   "display_name": "Python 3",
   "language": "python",
   "name": "python3"
  },
  "language_info": {
   "codemirror_mode": {
    "name": "ipython",
    "version": 3
   },
   "file_extension": ".py",
   "mimetype": "text/x-python",
   "name": "python",
   "nbconvert_exporter": "python",
   "pygments_lexer": "ipython3",
   "version": "3.10.13"
  }
 },
 "nbformat": 4,
 "nbformat_minor": 0
}
